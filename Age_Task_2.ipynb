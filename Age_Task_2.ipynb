{
 "cells": [
  {
   "cell_type": "markdown",
   "metadata": {},
   "source": [
    "# Age Classification Task 2"
   ]
  },
  {
   "cell_type": "code",
   "execution_count": 1,
   "metadata": {},
   "outputs": [
    {
     "name": "stderr",
     "output_type": "stream",
     "text": [
      "Using TensorFlow backend.\n"
     ]
    }
   ],
   "source": [
    "import matplotlib.pyplot as plt\n",
    "from matplotlib.pyplot import imshow\n",
    "from Preprocessing import preprocessRGB,facefeaturesdlib\n",
    "import numpy as np\n",
    "from keras import layers\n",
    "from keras.layers import Input, Dense, Activation, ZeroPadding2D, BatchNormalization, Flatten, Conv2D,Dropout\n",
    "from keras.layers import MaxPooling2D \n",
    "from keras.models import Model\n",
    "from keras.preprocessing import image\n",
    "import pandas as pd\n",
    "import matplotlib.pyplot as plt\n",
    "from matplotlib.pyplot import imshow\n",
    "import h5py\n",
    "from keras.models import model_from_json\n",
    "from keras.callbacks import ModelCheckpoint\n",
    "from keras.callbacks import EarlyStopping"
   ]
  },
  {
   "cell_type": "markdown",
   "metadata": {},
   "source": [
    "## Convolutional Neural Network"
   ]
  },
  {
   "cell_type": "code",
   "execution_count": 2,
   "metadata": {},
   "outputs": [],
   "source": [
    "def convModel(input_shape):\n",
    "    \n",
    "    \n",
    "    \n",
    "   \n",
    "    # Define the input placeholder as a tensor with shape input_shape. Think of this as your input image!\n",
    "    X_input = Input(input_shape)\n",
    "\n",
    "    # Zero-Padding: pads the border of X_input with zeroes\n",
    "    X = ZeroPadding2D((3, 3))(X_input)\n",
    "\n",
    "    # CONV -> BN -> RELU Block applied to X\n",
    "    X = Conv2D(32, (5, 5), strides = (1, 1), name = 'conv0')(X)\n",
    "    X = BatchNormalization(axis = 3, name = 'bn0')(X)\n",
    "    X = Activation('relu')(X)\n",
    "    #X = Dropout(.3)(X)\n",
    "    # MAXPOOL\n",
    "    X = MaxPooling2D((2, 2), name='max_pool_0')(X)\n",
    "    \n",
    "    \n",
    "    # CONV -> BN -> RELU Block applied to X\n",
    "    X = Conv2D(50, (2, 2), strides = (1, 1), name = 'conv1')(X)\n",
    "    X = BatchNormalization(axis = 3, name = 'bn1')(X)\n",
    "    X = Activation('relu')(X)\n",
    "    X = Dropout(.3)(X)\n",
    "    X = MaxPooling2D((3, 3), name='max_pool_1')(X)\n",
    "    \n",
    "    # FLATTEN X (means convert it to a vector) + FULLYCONNECTED\n",
    "    X = Flatten()(X)\n",
    "    X = Dense(256, activation='relu', name='fc0')(X)\n",
    "    X = Dropout(.3)(X)\n",
    "    X = Dense(128, activation='relu', name='fc1')(X)\n",
    "    X = Dropout(.3)(X)\n",
    "    X = Dense(1, activation='sigmoid', name='fc2')(X)\n",
    "    \n",
    "\n",
    "    # Create model. This creates your Keras model instance, you'll use this instance to train/test the model.\n",
    "    model = Model(inputs = X_input, outputs = X, name='cutomModel')\n",
    "\n",
    "    return model"
   ]
  },
  {
   "cell_type": "markdown",
   "metadata": {},
   "source": [
    "import images as rgb (64,64,3)"
   ]
  },
  {
   "cell_type": "code",
   "execution_count": 3,
   "metadata": {},
   "outputs": [],
   "source": [
    "x_testfiles,cx_train,cy_train,cx_test,cy_test=preprocessRGB('young',.2,(64,64))"
   ]
  },
  {
   "cell_type": "markdown",
   "metadata": {},
   "source": [
    "Creating model , compiling it , creating callbacks for early stopping and plotting"
   ]
  },
  {
   "cell_type": "code",
   "execution_count": 4,
   "metadata": {},
   "outputs": [],
   "source": [
    "cagemodel=convModel(cx_train.shape[1:])\n",
    "#opt=Adam(lr=0.001, beta_1=0.9, beta_2=0.999, epsilon=None, decay=0.0, amsgrad=False)\n",
    "cagemodel.compile(optimizer='adam',loss='binary_crossentropy',metrics = [\"accuracy\"])\n",
    "monitor= EarlyStopping(monitor='val_loss',min_delta=1e-3,patience=5,verbose=1,mode='auto')\n",
    "checkpointer =ModelCheckpoint(filepath='ageCNN1.hdf5',verbose=1,save_best_only=True)"
   ]
  },
  {
   "cell_type": "markdown",
   "metadata": {},
   "source": [
    "Training CNN 50 mins with validation split and batch sizr 16 until improvement stops"
   ]
  },
  {
   "cell_type": "code",
   "execution_count": 7,
   "metadata": {},
   "outputs": [
    {
     "name": "stdout",
     "output_type": "stream",
     "text": [
      "Train on 2828 samples, validate on 708 samples\n",
      "Epoch 1/100\n",
      "2828/2828 [==============================] - 110s 39ms/step - loss: 0.6323 - acc: 0.8228 - val_loss: 0.3435 - val_acc: 0.8559\n",
      "\n",
      "Epoch 00001: val_loss improved from inf to 0.34354, saving model to ageCNN1.hdf5\n",
      "Epoch 2/100\n",
      "2828/2828 [==============================] - 126s 45ms/step - loss: 0.2946 - acc: 0.8791 - val_loss: 0.2954 - val_acc: 0.8743\n",
      "\n",
      "Epoch 00002: val_loss improved from 0.34354 to 0.29538, saving model to ageCNN1.hdf5\n",
      "Epoch 3/100\n",
      "2828/2828 [==============================] - 129s 46ms/step - loss: 0.2726 - acc: 0.8876 - val_loss: 0.2947 - val_acc: 0.8701\n",
      "\n",
      "Epoch 00003: val_loss improved from 0.29538 to 0.29471, saving model to ageCNN1.hdf5\n",
      "Epoch 4/100\n",
      "2828/2828 [==============================] - 133s 47ms/step - loss: 0.2662 - acc: 0.8925 - val_loss: 0.2879 - val_acc: 0.8715\n",
      "\n",
      "Epoch 00004: val_loss improved from 0.29471 to 0.28792, saving model to ageCNN1.hdf5\n",
      "Epoch 5/100\n",
      "2828/2828 [==============================] - 145s 51ms/step - loss: 0.2444 - acc: 0.8960 - val_loss: 0.2799 - val_acc: 0.8785\n",
      "\n",
      "Epoch 00005: val_loss improved from 0.28792 to 0.27994, saving model to ageCNN1.hdf5\n",
      "Epoch 6/100\n",
      "2828/2828 [==============================] - 166s 59ms/step - loss: 0.2431 - acc: 0.8967 - val_loss: 0.4832 - val_acc: 0.8206\n",
      "\n",
      "Epoch 00006: val_loss did not improve\n",
      "Epoch 7/100\n",
      "2828/2828 [==============================] - 132s 47ms/step - loss: 0.2236 - acc: 0.9084 - val_loss: 0.2673 - val_acc: 0.8814\n",
      "\n",
      "Epoch 00007: val_loss improved from 0.27994 to 0.26732, saving model to ageCNN1.hdf5\n",
      "Epoch 8/100\n",
      "2828/2828 [==============================] - 149s 53ms/step - loss: 0.2225 - acc: 0.9038 - val_loss: 0.3522 - val_acc: 0.8573\n",
      "\n",
      "Epoch 00008: val_loss did not improve\n",
      "Epoch 9/100\n",
      "2828/2828 [==============================] - 154s 55ms/step - loss: 0.2186 - acc: 0.9042 - val_loss: 0.3019 - val_acc: 0.8559\n",
      "\n",
      "Epoch 00009: val_loss did not improve\n",
      "Epoch 10/100\n",
      "2828/2828 [==============================] - 161s 57ms/step - loss: 0.2156 - acc: 0.9042 - val_loss: 0.2890 - val_acc: 0.8757\n",
      "\n",
      "Epoch 00010: val_loss did not improve\n",
      "Epoch 11/100\n",
      "2828/2828 [==============================] - 163s 58ms/step - loss: 0.2015 - acc: 0.9151 - val_loss: 0.3342 - val_acc: 0.8545\n",
      "\n",
      "Epoch 00011: val_loss did not improve\n",
      "Epoch 12/100\n",
      "2828/2828 [==============================] - 145s 51ms/step - loss: 0.1940 - acc: 0.9148 - val_loss: 0.2760 - val_acc: 0.8715\n",
      "\n",
      "Epoch 00012: val_loss did not improve\n",
      "Epoch 00012: early stopping\n"
     ]
    }
   ],
   "source": [
    "historyCNN = cagemodel.fit(x=cx_train, y=cy_train, validation_split=0.2, epochs=100, batch_size=16,callbacks=[monitor,checkpointer], verbose=1)"
   ]
  },
  {
   "cell_type": "code",
   "execution_count": 8,
   "metadata": {},
   "outputs": [],
   "source": [
    "\n",
    "\n",
    "cagemodel.save('agemodel.h5')"
   ]
  },
  {
   "cell_type": "code",
   "execution_count": 9,
   "metadata": {},
   "outputs": [
    {
     "name": "stdout",
     "output_type": "stream",
     "text": [
      "884/884 [==============================] - 12s 13ms/step\n",
      "\n",
      "Loss = 0.21978740616621475\n",
      "Test Accuracy = 0.919683257918552\n"
     ]
    }
   ],
   "source": [
    "from keras.models import load_model\n",
    "c1agemodel=load_model('agemodel.h5')\n",
    "\n",
    "preds =cagemodel.evaluate(x =cx_test, y =cy_test)\n",
    "\n",
    "print()\n",
    "print (\"Loss = \" + str(preds[0]))\n",
    "print (\"Test Accuracy = \" + str(preds[1]))"
   ]
  },
  {
   "cell_type": "markdown",
   "metadata": {},
   "source": [
    "Exporting Csv"
   ]
  },
  {
   "cell_type": "code",
   "execution_count": 33,
   "metadata": {},
   "outputs": [],
   "source": [
    "import pandas as pd\n",
    "yhat=cagemodel.predict(cx_test)\n",
    "df =pd.DataFrame(x_testfiles)\n",
    "df['pred']=(np.round(yhat,0))\n",
    "pred=np.array(df)\n",
    "np.savetxt('Task2.csv', pred, delimiter=',',header=str(preds[1]))"
   ]
  },
  {
   "cell_type": "markdown",
   "metadata": {},
   "source": [
    "## Plotting Graphs"
   ]
  },
  {
   "cell_type": "code",
   "execution_count": 34,
   "metadata": {},
   "outputs": [
    {
     "data": {
      "image/png": "[encoded data removed]",
      "text/plain": [
       "<matplotlib.figure.Figure at 0x277df737a58>"
      ]
     },
     "metadata": {},
     "output_type": "display_data"
    }
   ],
   "source": [
    "plt.plot(historyCNN.history['loss'])\n",
    "plt.plot(historyCNN.history['val_loss'])\n",
    "plt.title('Age Model loss CNN')\n",
    "plt.ylabel('loss')\n",
    "plt.xlabel('epoch')\n",
    "plt.legend(['train', 'test'], loc='upper left')\n",
    "plt.show()"
   ]
  },
  {
   "cell_type": "code",
   "execution_count": 35,
   "metadata": {},
   "outputs": [
    {
     "data": {
      "image/png": "[encoded data removed]",
      "text/plain": [
       "<matplotlib.figure.Figure at 0x277df6f8518>"
      ]
     },
     "metadata": {},
     "output_type": "display_data"
    }
   ],
   "source": [
    "plt.plot(historyCNN.history['acc'])\n",
    "plt.plot(historyCNN.history['val_acc'])\n",
    "plt.title('Age Model accuracy CNN')\n",
    "plt.ylabel('accuracy')\n",
    "plt.xlabel('epoch')\n",
    "plt.legend(['train', 'test'], loc='upper left')\n",
    "plt.show()"
   ]
  },
  {
   "cell_type": "code",
   "execution_count": 36,
   "metadata": {},
   "outputs": [],
   "source": [
    "from sklearn.metrics import confusion_matrix\n",
    "conf= confusion_matrix(cy_test,np.round(yhat,0))"
   ]
  },
  {
   "cell_type": "code",
   "execution_count": 37,
   "metadata": {},
   "outputs": [
    {
     "data": {
      "text/plain": [
       "array([[118,  68],\n",
       "       [ 27, 671]], dtype=int64)"
      ]
     },
     "execution_count": 37,
     "metadata": {},
     "output_type": "execute_result"
    }
   ],
   "source": [
    "conf"
   ]
  },
  {
   "cell_type": "markdown",
   "metadata": {},
   "source": [
    "## Testing Test Dataset"
   ]
  },
  {
   "cell_type": "code",
   "execution_count": 41,
   "metadata": {},
   "outputs": [],
   "source": [
    "i=0\n",
    "NewTest=np.zeros((100,64,64,3))\n",
    "for x in range(1,101):\n",
    "    temp= image.load_img('testing_dataset/'+str(x)+'.png',target_size=(64,64))\n",
    "    NewTest[i,:,:,:]=image.img_to_array(temp)\n",
    "    i=i+1\n",
    "NewTest=NewTest/255\n",
    "\n",
    "yhat=cagemodel.predict(NewTest)\n",
    "yhat=np.round(yhat,0)\n",
    "df1 =pd.DataFrame(yhat)\n",
    "df = pd.DataFrame(list(range(1,101)))\n",
    "df['pred']=list(df1.max(axis=1))\n",
    "pred=np.array(df)\n",
    "np.savetxt('Testing_dataset_Task2.csv', pred, delimiter=',',header=str(preds[1]))"
   ]
  },
  {
   "cell_type": "code",
   "execution_count": null,
   "metadata": {},
   "outputs": [],
   "source": []
  },
  {
   "cell_type": "code",
   "execution_count": null,
   "metadata": {},
   "outputs": [],
   "source": []
  }
 ],
 "metadata": {
  "kernelspec": {
   "display_name": "Python 3",
   "language": "python",
   "name": "python3"
  },
  "language_info": {
   "codemirror_mode": {
    "name": "ipython",
    "version": 3
   },
   "file_extension": ".py",
   "mimetype": "text/x-python",
   "name": "python",
   "nbconvert_exporter": "python",
   "pygments_lexer": "ipython3",
   "version": "3.6.4"
  }
 },
 "nbformat": 4,
 "nbformat_minor": 2
}
