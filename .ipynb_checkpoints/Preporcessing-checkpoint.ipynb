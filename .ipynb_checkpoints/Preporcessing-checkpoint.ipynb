{
 "cells": [
  {
   "cell_type": "code",
   "execution_count": 2,
   "metadata": {},
   "outputs": [
    {
     "name": "stderr",
     "output_type": "stream",
     "text": [
      "Using TensorFlow backend.\n"
     ]
    }
   ],
   "source": [
    "import numpy as np\n",
    "from keras import layers\n",
    "from keras.layers import Input, Dense, Activation, ZeroPadding2D, BatchNormalization, Flatten, Conv2D,Dropout,Convolution2D\n",
    "from keras.layers import MaxPooling2D\n",
    "from keras.models import Model\n",
    "from keras.preprocessing import image\n",
    "import pandas as pd\n",
    "import matplotlib.pyplot as plt\n",
    "from matplotlib.pyplot import imshow\n",
    "import h5py\n",
    "from keras.models import model_from_json\n",
    "from keras.callbacks import EarlyStopping\n",
    "from keras.callbacks import ModelCheckpoint\n",
    "from keras.models import Sequential\n",
    "from sklearn.model_selection import train_test_split\n",
    "img_dir='floyd\\input\\dataset\\\\'"
   ]
  },
  {
   "cell_type": "code",
   "execution_count": 3,
   "metadata": {},
   "outputs": [],
   "source": [
    "def preprocess(attribute,test_size,pictureshape,)#testsize=percentage of test data \n",
    "    noise = pd.read_csv('noise_classified.csv',header=None)\n",
    "    labels_noise= pd.read_csv(\"attribute_list.csv\",skiprows=1)\n",
    "    labels_noise['noise']=noise.loc[:,1]\n",
    "    labels= labels_noise[labels_noise['noise']==1]\n",
    "    attribute='smiling'\n",
    "    train_test_data=labels.loc[:,['file_name',attribute]]\n",
    "    train_test_data.loc[:,['file_name','smiling']]\n",
    "    train_test_data[attribute]= train_test_data[attribute].apply(lambda x: 0 if x < 1  else 1)\n",
    "    train, test = train_test_split(train_test_data, test_size=0.2)\n",
    "    y_train= np.array(train['smiling']).T\n",
    "    y_test=np.array(test['smiling']).T\n",
    "    train.shape[0]\n",
    "    picture_shape=(64,64)\n",
    "    i=0\n",
    "    x_train=np.zeros((len(train['smiling']),picture_shape[0],picture_shape[1],3))\n",
    "    for x in list(train['file_name']):\n",
    "        temp= image.load_img(img_dir+str(x)+'.png',target_size=(picture_shape))\n",
    "        x_train[i,:,:,:]=image.img_to_array(temp)\n",
    "        i=i+1\n",
    "    i=0\n",
    "    x_test=np.zeros((len(test['smiling']),picture_shape[0],picture_shape[1],3))\n",
    "    for x in list(test['file_name']):\n",
    "        temp= image.load_img(img_dir+str(x)+'.png',target_size=(picture_shape))\n",
    "        x_test[i,:,:,:]=image.img_to_array(temp)\n",
    "        i=i+1\n",
    "    x_train,x_test = x_train/255,x_test/255\n",
    "    return z"
   ]
  },
  {
   "cell_type": "code",
   "execution_count": 4,
   "metadata": {},
   "outputs": [
    {
     "data": {
      "text/plain": [
       "(3536, 64, 64, 3)"
      ]
     },
     "execution_count": 4,
     "metadata": {},
     "output_type": "execute_result"
    }
   ],
   "source": []
  },
  {
   "cell_type": "code",
   "execution_count": null,
   "metadata": {},
   "outputs": [],
   "source": []
  }
 ],
 "metadata": {
  "kernelspec": {
   "display_name": "Python 3",
   "language": "python",
   "name": "python3"
  },
  "language_info": {
   "codemirror_mode": {
    "name": "ipython",
    "version": 3
   },
   "file_extension": ".py",
   "mimetype": "text/x-python",
   "name": "python",
   "nbconvert_exporter": "python",
   "pygments_lexer": "ipython3",
   "version": "3.6.4"
  }
 },
 "nbformat": 4,
 "nbformat_minor": 2
}
