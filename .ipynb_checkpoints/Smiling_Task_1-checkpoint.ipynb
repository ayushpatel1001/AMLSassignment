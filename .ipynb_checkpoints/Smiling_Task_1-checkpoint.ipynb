{
 "cells": [
  {
   "cell_type": "markdown",
   "metadata": {},
   "source": [
    "# Smiling Classification Task 1"
   ]
  },
  {
   "cell_type": "code",
   "execution_count": 1,
   "metadata": {},
   "outputs": [
    {
     "name": "stderr",
     "output_type": "stream",
     "text": [
      "Using TensorFlow backend.\n"
     ]
    }
   ],
   "source": [
    "import matplotlib.pyplot as plt\n",
    "from matplotlib.pyplot import imshow\n",
    "from Preprocessing import preprocessRGB,facefeaturesdlib\n",
    "import numpy as np\n",
    "from keras import layers\n",
    "from keras.layers import Input, Dense, Activation, ZeroPadding2D, BatchNormalization, Flatten, Conv2D,Dropout\n",
    "from keras.layers import MaxPooling2D \n",
    "from keras.models import Model\n",
    "from keras.preprocessing import image\n",
    "import pandas as pd\n",
    "import matplotlib.pyplot as plt\n",
    "from matplotlib.pyplot import imshow\n",
    "import h5py\n",
    "from keras.models import model_from_json\n",
    "from keras.callbacks import ModelCheckpoint\n",
    "from keras.callbacks import EarlyStopping\n"
   ]
  },
  {
   "cell_type": "markdown",
   "metadata": {},
   "source": [
    "getting features in x_train,y_train,x_test,y_test for smiling attribute with testsize of 30% will take some time"
   ]
  },
  {
   "cell_type": "code",
   "execution_count": 2,
   "metadata": {},
   "outputs": [],
   "source": [
    "x_train,y_train,x_test,y_test=facefeaturesdlib('smiling',.3,(64,64))\n",
    "x_train=np.reshape(x_train,(x_train.shape[0],136),'f')\n",
    "x_test=np.reshape(x_test,(x_test.shape[0],136),'f')"
   ]
  },
  {
   "cell_type": "markdown",
   "metadata": {},
   "source": []
  },
  {
   "cell_type": "markdown",
   "metadata": {},
   "source": [
    "use this cell to save time"
   ]
  },
  {
   "cell_type": "code",
   "execution_count": 19,
   "metadata": {},
   "outputs": [],
   "source": [
    "\n",
    "x_train = np.genfromtxt(\"x_train_featuresdlib.csv\", delimiter=',')\n",
    "y_train = np.genfromtxt(\"y_train_featuresdlib.csv\", delimiter=',')\n",
    "x_test = np.genfromtxt(\"x_test_featuresdlib.csv\", delimiter=',')\n",
    "y_test = np.genfromtxt(\"y_test_featuresdlib.csv\", delimiter=',')"
   ]
  },
  {
   "cell_type": "code",
   "execution_count": 3,
   "metadata": {},
   "outputs": [
    {
     "data": {
      "text/plain": [
       "(3041, 68, 2)"
      ]
     },
     "execution_count": 3,
     "metadata": {},
     "output_type": "execute_result"
    }
   ],
   "source": [
    "x_trainNN=np.reshape(x_train,(x_train.shape[0],68,2),'f')\n",
    "x_testNN=np.reshape(x_test,(x_test.shape[0],68,2),'f')\n",
    "x_trainNN.shape"
   ]
  },
  {
   "cell_type": "markdown",
   "metadata": {},
   "source": [
    "checking if features are correct"
   ]
  },
  {
   "cell_type": "code",
   "execution_count": 4,
   "metadata": {},
   "outputs": [
    {
     "data": {
      "text/plain": [
       "(3041,)"
      ]
     },
     "execution_count": 4,
     "metadata": {},
     "output_type": "execute_result"
    },
    {
     "data": {
      "image/png": "[encoded data removed]",
      "text/plain": [
       "<matplotlib.figure.Figure at 0x1a06b608978>"
      ]
     },
     "metadata": {},
     "output_type": "display_data"
    }
   ],
   "source": [
    "p=10\n",
    "plt.scatter(x_trainNN[p,:,0],x_trainNN[p,:,1])\n",
    "y_train.shape"
   ]
  },
  {
   "cell_type": "markdown",
   "metadata": {},
   "source": [
    "## Support Vector Machine"
   ]
  },
  {
   "cell_type": "code",
   "execution_count": 5,
   "metadata": {},
   "outputs": [],
   "source": [
    "from sklearn.svm import SVC\n",
    "smilingsvm= SVC(kernel='rbf')\n",
    "xtrain=np.reshape(x_train,(x_train.shape[0],136),'f')# reshaping into 2d for SVM \n"
   ]
  },
  {
   "cell_type": "code",
   "execution_count": 6,
   "metadata": {},
   "outputs": [
    {
     "data": {
      "text/plain": [
       "SVC(C=1.0, cache_size=200, class_weight=None, coef0=0.0,\n",
       "  decision_function_shape='ovr', degree=3, gamma='auto', kernel='rbf',\n",
       "  max_iter=-1, probability=False, random_state=None, shrinking=True,\n",
       "  tol=0.001, verbose=False)"
      ]
     },
     "execution_count": 6,
     "metadata": {},
     "output_type": "execute_result"
    }
   ],
   "source": [
    "smilingsvm.fit(x_train,y_train)"
   ]
  },
  {
   "cell_type": "code",
   "execution_count": 10,
   "metadata": {},
   "outputs": [],
   "source": [
    "yhat=smilingsvm.predict(x_test)"
   ]
  },
  {
   "cell_type": "code",
   "execution_count": 9,
   "metadata": {},
   "outputs": [
    {
     "data": {
      "text/plain": [
       "0.7854938271604939"
      ]
     },
     "execution_count": 9,
     "metadata": {},
     "output_type": "execute_result"
    }
   ],
   "source": [
    "from sklearn.metrics import accuracy_score\n",
    "accuracy_score(y_test,yhat)\n"
   ]
  },
  {
   "cell_type": "code",
   "execution_count": null,
   "metadata": {},
   "outputs": [],
   "source": []
  },
  {
   "cell_type": "markdown",
   "metadata": {},
   "source": [
    "## Neural Network (fully Connected)"
   ]
  },
  {
   "cell_type": "code",
   "execution_count": 13,
   "metadata": {},
   "outputs": [],
   "source": [
    "def customModel(input_shape):\n",
    "    \n",
    "    \n",
    "    \n",
    "    # Define the input placeholder as a tensor with shape input_shape. Think of this as your input image!\n",
    "    X_input = Input(input_shape)\n",
    "\n",
    "   \n",
    "    # FLATTEN X (means convert it to a vector) + FULLYCONNECTED\n",
    "    #X = Flatten()(X_input)\n",
    "    X = Dense(256, activation='relu', name='fc0')(X_input)\n",
    "    X = Dropout(.3)(X)\n",
    "    X = Dense(128, activation='relu', name='fc1')(X)\n",
    "    X = Dropout(.3)(X)\n",
    "    X = Dense(128, activation='relu', name='fc2')(X)\n",
    "    X = Dropout(.3)(X)\n",
    "    X = Dense(128, activation='relu', name='fc3')(X)\n",
    "    X = Dropout(.3)(X)\n",
    "    X = Dense(1, activation='sigmoid', name='fc4')(X)\n",
    "    \n",
    "\n",
    "    # Create model. This creates your Keras model instance, you'll use this instance to train/test the model.\n",
    "    model = Model(inputs = X_input, outputs = X, name='cutomModel')\n",
    "\n",
    "    return model"
   ]
  },
  {
   "cell_type": "code",
   "execution_count": 14,
   "metadata": {},
   "outputs": [
    {
     "name": "stdout",
     "output_type": "stream",
     "text": [
      "Train on 2432 samples, validate on 609 samples\n",
      "Epoch 1/100\n",
      "2432/2432 [==============================] - 1s 279us/step - loss: 3.5550 - acc: 0.7763 - val_loss: 3.0105 - val_acc: 0.8112\n",
      "\n",
      "Epoch 00001: val_loss improved from inf to 3.01047, saving model to smilingDLIBNN.hdf5\n",
      "Epoch 2/100\n",
      "2432/2432 [==============================] - 0s 123us/step - loss: 3.4677 - acc: 0.7825 - val_loss: 3.0105 - val_acc: 0.8112\n",
      "\n",
      "Epoch 00002: val_loss did not improve\n",
      "Epoch 3/100\n",
      "2432/2432 [==============================] - 0s 128us/step - loss: 3.4701 - acc: 0.7821 - val_loss: 3.0105 - val_acc: 0.8112\n",
      "\n",
      "Epoch 00003: val_loss did not improve\n",
      "Epoch 4/100\n",
      "2432/2432 [==============================] - 0s 125us/step - loss: 3.4677 - acc: 0.7825 - val_loss: 3.0105 - val_acc: 0.8112\n",
      "\n",
      "Epoch 00004: val_loss did not improve\n",
      "Epoch 5/100\n",
      "2432/2432 [==============================] - 0s 133us/step - loss: 3.4677 - acc: 0.7825 - val_loss: 3.0105 - val_acc: 0.8112\n",
      "\n",
      "Epoch 00005: val_loss did not improve\n",
      "Epoch 6/100\n",
      "2432/2432 [==============================] - 0s 127us/step - loss: 3.4677 - acc: 0.7825 - val_loss: 3.0105 - val_acc: 0.8112\n",
      "\n",
      "Epoch 00006: val_loss did not improve\n",
      "Epoch 7/100\n",
      "2432/2432 [==============================] - 0s 125us/step - loss: 3.4677 - acc: 0.7825 - val_loss: 3.0105 - val_acc: 0.8112\n",
      "\n",
      "Epoch 00007: val_loss did not improve\n",
      "Epoch 8/100\n",
      "2432/2432 [==============================] - 0s 126us/step - loss: 3.4677 - acc: 0.7825 - val_loss: 3.0105 - val_acc: 0.8112\n",
      "\n",
      "Epoch 00008: val_loss did not improve\n",
      "Epoch 9/100\n",
      "2432/2432 [==============================] - 0s 125us/step - loss: 3.4677 - acc: 0.7825 - val_loss: 3.0105 - val_acc: 0.8112\n",
      "\n",
      "Epoch 00009: val_loss did not improve\n",
      "Epoch 10/100\n",
      "2432/2432 [==============================] - 0s 164us/step - loss: 3.4677 - acc: 0.7825 - val_loss: 3.0105 - val_acc: 0.8112\n",
      "\n",
      "Epoch 00010: val_loss did not improve\n",
      "Epoch 11/100\n",
      "2432/2432 [==============================] - 0s 158us/step - loss: 3.4677 - acc: 0.7825 - val_loss: 3.0105 - val_acc: 0.8112\n",
      "\n",
      "Epoch 00011: val_loss did not improve\n",
      "Epoch 12/100\n",
      "2432/2432 [==============================] - 0s 178us/step - loss: 3.4677 - acc: 0.7825 - val_loss: 3.0105 - val_acc: 0.8112\n",
      "\n",
      "Epoch 00012: val_loss did not improve\n",
      "Epoch 13/100\n",
      "2432/2432 [==============================] - 0s 171us/step - loss: 3.4677 - acc: 0.7825 - val_loss: 3.0105 - val_acc: 0.8112\n",
      "\n",
      "Epoch 00013: val_loss did not improve\n",
      "Epoch 14/100\n",
      "2432/2432 [==============================] - 0s 167us/step - loss: 3.4677 - acc: 0.7825 - val_loss: 3.0105 - val_acc: 0.8112\n",
      "\n",
      "Epoch 00014: val_loss did not improve\n",
      "Epoch 15/100\n",
      "2432/2432 [==============================] - 0s 176us/step - loss: 3.4677 - acc: 0.7825 - val_loss: 3.0105 - val_acc: 0.8112\n",
      "\n",
      "Epoch 00015: val_loss did not improve\n",
      "Epoch 16/100\n",
      "2432/2432 [==============================] - 0s 165us/step - loss: 3.4677 - acc: 0.7825 - val_loss: 3.0105 - val_acc: 0.8112\n",
      "\n",
      "Epoch 00016: val_loss did not improve\n",
      "Epoch 00016: early stopping\n"
     ]
    }
   ],
   "source": [
    "from keras.optimizers import Adam\n",
    "smilingmodel=customModel(x_train.shape[1:])\n",
    "opt=Adam(lr=0.001, beta_1=0.5, beta_2=0.999, epsilon=None, decay=0.0, amsgrad=False)\n",
    "smilingmodel.compile(opt,loss='binary_crossentropy',metrics = [\"accuracy\"])\n",
    "monitor= EarlyStopping(monitor='val_loss',min_delta=1e-3,patience=15,verbose=1,mode='auto')\n",
    "checkpointer =ModelCheckpoint(filepath='smilingDLIBNN.hdf5',verbose=1,save_best_only=True)\n",
    "historyNN = smilingmodel.fit(x=x_train, y=y_train, validation_split=0.2, epochs=100, batch_size=32,callbacks=[monitor,checkpointer], verbose=1)"
   ]
  },
  {
   "cell_type": "code",
   "execution_count": 17,
   "metadata": {},
   "outputs": [
    {
     "name": "stdout",
     "output_type": "stream",
     "text": [
      "Train on 2736 samples, validate on 305 samples\n",
      "Epoch 1/100\n",
      "2736/2736 [==============================] - 1s 310us/step - loss: 9.9865 - acc: 0.3443 - val_loss: 13.1028 - val_acc: 0.1869\n",
      "\n",
      "Epoch 00001: val_loss improved from inf to 13.10283, saving model to smilingDLIBNN.hdf5\n",
      "Epoch 2/100\n",
      "2736/2736 [==============================] - 0s 128us/step - loss: 8.5733 - acc: 0.4254 - val_loss: 2.8097 - val_acc: 0.8131\n",
      "\n",
      "Epoch 00002: val_loss improved from 13.10283 to 2.80970, saving model to smilingDLIBNN.hdf5\n",
      "Epoch 3/100\n",
      "2736/2736 [==============================] - 0s 129us/step - loss: 7.1147 - acc: 0.5121 - val_loss: 2.9794 - val_acc: 0.8131\n",
      "\n",
      "Epoch 00003: val_loss did not improve\n",
      "Epoch 4/100\n",
      "2736/2736 [==============================] - 0s 137us/step - loss: 5.8688 - acc: 0.5914 - val_loss: 2.9794 - val_acc: 0.8131\n",
      "\n",
      "Epoch 00004: val_loss did not improve\n",
      "Epoch 5/100\n",
      "2736/2736 [==============================] - 0s 125us/step - loss: 4.7336 - acc: 0.6718 - val_loss: 2.9794 - val_acc: 0.8131\n",
      "\n",
      "Epoch 00005: val_loss did not improve\n",
      "Epoch 6/100\n",
      "2736/2736 [==============================] - 0s 128us/step - loss: 4.5412 - acc: 0.6919 - val_loss: 2.9794 - val_acc: 0.8131\n",
      "\n",
      "Epoch 00006: val_loss did not improve\n",
      "Epoch 7/100\n",
      "2736/2736 [==============================] - 0s 130us/step - loss: 4.4156 - acc: 0.6981 - val_loss: 2.9794 - val_acc: 0.8131\n",
      "\n",
      "Epoch 00007: val_loss did not improve\n",
      "Epoch 8/100\n",
      "2736/2736 [==============================] - 0s 140us/step - loss: 4.1113 - acc: 0.7233 - val_loss: 2.9794 - val_acc: 0.8131\n",
      "\n",
      "Epoch 00008: val_loss did not improve\n",
      "Epoch 9/100\n",
      "2736/2736 [==============================] - 0s 171us/step - loss: 3.8812 - acc: 0.7405 - val_loss: 2.9794 - val_acc: 0.8131\n",
      "\n",
      "Epoch 00009: val_loss did not improve\n",
      "Epoch 10/100\n",
      "2736/2736 [==============================] - 0s 166us/step - loss: 3.9075 - acc: 0.7376 - val_loss: 2.9794 - val_acc: 0.8131\n",
      "\n",
      "Epoch 00010: val_loss did not improve\n",
      "Epoch 11/100\n",
      "2736/2736 [==============================] - 0s 170us/step - loss: 3.8221 - acc: 0.7438 - val_loss: 2.9794 - val_acc: 0.8131\n",
      "\n",
      "Epoch 00011: val_loss did not improve\n",
      "Epoch 12/100\n",
      "2736/2736 [==============================] - 0s 168us/step - loss: 3.7365 - acc: 0.7537 - val_loss: 2.9794 - val_acc: 0.8131\n",
      "\n",
      "Epoch 00012: val_loss did not improve\n",
      "Epoch 13/100\n",
      "2736/2736 [==============================] - 0s 160us/step - loss: 3.6690 - acc: 0.7595 - val_loss: 2.9794 - val_acc: 0.8131\n",
      "\n",
      "Epoch 00013: val_loss did not improve\n",
      "Epoch 14/100\n",
      "2736/2736 [==============================] - 0s 169us/step - loss: 3.6695 - acc: 0.7639 - val_loss: 2.9794 - val_acc: 0.8131\n",
      "\n",
      "Epoch 00014: val_loss did not improve\n",
      "Epoch 15/100\n",
      "2736/2736 [==============================] - 0s 167us/step - loss: 3.6416 - acc: 0.7617 - val_loss: 2.9794 - val_acc: 0.8131\n",
      "\n",
      "Epoch 00015: val_loss did not improve\n",
      "Epoch 16/100\n",
      "2736/2736 [==============================] - 0s 162us/step - loss: 3.6148 - acc: 0.7683 - val_loss: 2.9794 - val_acc: 0.8131\n",
      "\n",
      "Epoch 00016: val_loss did not improve\n",
      "Epoch 17/100\n",
      "2736/2736 [==============================] - 0s 136us/step - loss: 3.5352 - acc: 0.7723 - val_loss: 2.9794 - val_acc: 0.8131\n",
      "\n",
      "Epoch 00017: val_loss did not improve\n",
      "Epoch 00017: early stopping\n"
     ]
    }
   ],
   "source": [
    "from keras.optimizers import Adam\n",
    "smilingmodel=customModel(x_train.shape[1:])\n",
    "opt=Adam(lr=0.00001, beta_1=0.9, beta_2=0.999, epsilon=None, decay=0.0, amsgrad=False)\n",
    "smilingmodel.compile(opt,loss='binary_crossentropy',metrics = [\"accuracy\"])\n",
    "monitor= EarlyStopping(monitor='val_loss',min_delta=1e-3,patience=15,verbose=1,mode='auto')\n",
    "checkpointer =ModelCheckpoint(filepath='smilingDLIBNN.hdf5',verbose=1,save_best_only=True)\n",
    "historyNN1 = smilingmodel.fit(x=x_train, y=y_train, validation_split=0.1, epochs=100, batch_size=32,callbacks=[monitor,checkpointer], verbose=1)"
   ]
  },
  {
   "cell_type": "code",
   "execution_count": null,
   "metadata": {},
   "outputs": [],
   "source": []
  },
  {
   "cell_type": "code",
   "execution_count": 19,
   "metadata": {},
   "outputs": [
    {
     "name": "stdout",
     "output_type": "stream",
     "text": [
      "1296/1296 [==============================] - 0s 45us/step\n",
      "\n",
      "Loss = 3.2479844873334156\n",
      "Test Accuracy = 0.7854938271604939\n"
     ]
    }
   ],
   "source": [
    "smilingmodel.load_weights('smilingDLIBNN.hdf5')\n",
    "preds =smilingmodel.evaluate(x =x_test, y =y_test)\n",
    "\n",
    "print()\n",
    "print (\"Loss = \" + str(preds[0]))\n",
    "print (\"Test Accuracy = \" + str(preds[1]))"
   ]
  },
  {
   "cell_type": "code",
   "execution_count": 20,
   "metadata": {},
   "outputs": [
    {
     "data": {
      "image/png": "[encoded data removed]",
      "text/plain": [
       "<matplotlib.figure.Figure at 0x1a0756bc550>"
      ]
     },
     "metadata": {},
     "output_type": "display_data"
    }
   ],
   "source": [
    "plt.plot(historyNN.history['loss'])\n",
    "plt.plot(historyNN.history['val_loss'])\n",
    "plt.title('Smiling Model loss NN lr=0.001')\n",
    "plt.ylabel('loss')\n",
    "plt.xlabel('epoch')\n",
    "plt.legend(['train', 'test'], loc='upper left')\n",
    "plt.show()"
   ]
  },
  {
   "cell_type": "code",
   "execution_count": 21,
   "metadata": {},
   "outputs": [
    {
     "data": {
      "image/png": "[encoded data removed]",
      "text/plain": [
       "<matplotlib.figure.Figure at 0x1a07575bbe0>"
      ]
     },
     "metadata": {},
     "output_type": "display_data"
    }
   ],
   "source": [
    "plt.plot(historyNN.history['acc'])\n",
    "plt.plot(historyNN.history['val_acc'])\n",
    "plt.title('Smiling Model loss NN lr=.001')\n",
    "plt.ylabel('acc')\n",
    "plt.xlabel('epoch')\n",
    "plt.legend(['train', 'test'], loc='upper left')\n",
    "plt.show()"
   ]
  },
  {
   "cell_type": "code",
   "execution_count": 22,
   "metadata": {},
   "outputs": [
    {
     "data": {
      "image/png": "[encoded data removed]",
      "text/plain": [
       "<matplotlib.figure.Figure at 0x1a0757d8b00>"
      ]
     },
     "metadata": {},
     "output_type": "display_data"
    }
   ],
   "source": [
    "plt.plot(historyNN1.history['loss'])\n",
    "plt.plot(historyNN1.history['val_loss'])\n",
    "plt.title('Smiling Model loss NN lr=0.00001')\n",
    "plt.ylabel('loss')\n",
    "plt.xlabel('epoch')\n",
    "plt.legend(['train', 'test'], loc='upper left')\n",
    "plt.show()"
   ]
  },
  {
   "cell_type": "code",
   "execution_count": 23,
   "metadata": {},
   "outputs": [
    {
     "data": {
      "image/png": "[encoded data removed]",
      "text/plain": [
       "<matplotlib.figure.Figure at 0x1a0757f5320>"
      ]
     },
     "metadata": {},
     "output_type": "display_data"
    }
   ],
   "source": [
    "plt.plot(historyNN1.history['acc'])\n",
    "plt.plot(historyNN1.history['val_acc'])\n",
    "plt.title('Smiling Model loss NN lr=0.00001')\n",
    "plt.ylabel('accuarcy')\n",
    "plt.xlabel('epoch')\n",
    "plt.legend(['train', 'test'], loc='upper left')\n",
    "plt.show()"
   ]
  },
  {
   "cell_type": "markdown",
   "metadata": {},
   "source": [
    "## Convolutional Neural Network"
   ]
  },
  {
   "cell_type": "code",
   "execution_count": 24,
   "metadata": {},
   "outputs": [],
   "source": [
    "def convModel(input_shape):\n",
    "    \n",
    "    \n",
    "    \n",
    "   \n",
    "    # Define the input placeholder as a tensor with shape input_shape. Think of this as your input image!\n",
    "    X_input = Input(input_shape)\n",
    "\n",
    "    # Zero-Padding: pads the border of X_input with zeroes\n",
    "    X = ZeroPadding2D((3, 3))(X_input)\n",
    "\n",
    "    # CONV -> BN -> RELU Block applied to X\n",
    "    X = Conv2D(32, (5, 5), strides = (1, 1), name = 'conv0')(X)\n",
    "    X = BatchNormalization(axis = 3, name = 'bn0')(X)\n",
    "    X = Activation('relu')(X)\n",
    "    #X = Dropout(.3)(X)\n",
    "    # MAXPOOL\n",
    "    X = MaxPooling2D((2, 2), name='max_pool_0')(X)\n",
    "    \n",
    "    \n",
    "    # CONV -> BN -> RELU Block applied to X\n",
    "    X = Conv2D(50, (2, 2), strides = (1, 1), name = 'conv1')(X)\n",
    "    X = BatchNormalization(axis = 3, name = 'bn1')(X)\n",
    "    X = Activation('relu')(X)\n",
    "    X = Dropout(.3)(X)\n",
    "    X = MaxPooling2D((3, 3), name='max_pool_1')(X)\n",
    "    \n",
    "    # FLATTEN X (means convert it to a vector) + FULLYCONNECTED\n",
    "    X = Flatten()(X)\n",
    "    X = Dense(256, activation='relu', name='fc0')(X)\n",
    "    X = Dropout(.3)(X)\n",
    "    X = Dense(128, activation='relu', name='fc1')(X)\n",
    "    X = Dropout(.3)(X)\n",
    "    X = Dense(1, activation='sigmoid', name='fc2')(X)\n",
    "    \n",
    "\n",
    "    # Create model. This creates your Keras model instance, you'll use this instance to train/test the model.\n",
    "    model = Model(inputs = X_input, outputs = X, name='cutomModel')\n",
    "\n",
    "    return model"
   ]
  },
  {
   "cell_type": "markdown",
   "metadata": {},
   "source": [
    "import images as rgb (64,64,3)"
   ]
  },
  {
   "cell_type": "code",
   "execution_count": 25,
   "metadata": {},
   "outputs": [],
   "source": [
    "x_testfiles,cx_train,cy_train,cx_test,cy_test=preprocessRGB('smiling',.2,(64,64))"
   ]
  },
  {
   "cell_type": "markdown",
   "metadata": {},
   "source": [
    "Creating model , compiling it , creating callbacks for early stopping and plotting"
   ]
  },
  {
   "cell_type": "code",
   "execution_count": 26,
   "metadata": {},
   "outputs": [],
   "source": [
    "csmilingmodel=convModel(cx_train.shape[1:])\n",
    "#opt=Adam(lr=0.001, beta_1=0.9, beta_2=0.999, epsilon=None, decay=0.0, amsgrad=False)\n",
    "csmilingmodel.compile(optimizer='adam',loss='binary_crossentropy',metrics = [\"accuracy\"])\n",
    "monitor= EarlyStopping(monitor='val_loss',min_delta=1e-3,patience=10,verbose=1,mode='auto')\n",
    "checkpointer =ModelCheckpoint(filepath='csmilingCNN1.hdf5',verbose=1,save_best_only=True)"
   ]
  },
  {
   "cell_type": "markdown",
   "metadata": {},
   "source": [
    "Training CNN 50 mins with validation split and batch sizr 16 until improvement stops"
   ]
  },
  {
   "cell_type": "code",
   "execution_count": 27,
   "metadata": {},
   "outputs": [
    {
     "name": "stdout",
     "output_type": "stream",
     "text": [
      "Train on 2828 samples, validate on 708 samples\n",
      "Epoch 1/100\n",
      "2828/2828 [==============================] - 127s 45ms/step - loss: 0.6277 - acc: 0.7677 - val_loss: 0.2971 - val_acc: 0.8037\n",
      "\n",
      "Epoch 00001: val_loss improved from inf to 0.29710, saving model to csmilingCNN1.hdf5\n",
      "Epoch 2/100\n",
      "2828/2828 [==============================] - 141s 50ms/step - loss: 0.3317 - acc: 0.7910 - val_loss: 0.3448 - val_acc: 0.7811\n",
      "\n",
      "Epoch 00002: val_loss did not improve\n",
      "Epoch 3/100\n",
      "2828/2828 [==============================] - 141s 50ms/step - loss: 0.2973 - acc: 0.8221 - val_loss: 0.2575 - val_acc: 0.8771\n",
      "\n",
      "Epoch 00003: val_loss improved from 0.29710 to 0.25750, saving model to csmilingCNN1.hdf5\n",
      "Epoch 4/100\n",
      "2828/2828 [==============================] - 139s 49ms/step - loss: 0.2601 - acc: 0.8557 - val_loss: 0.2076 - val_acc: 0.9124\n",
      "\n",
      "Epoch 00004: val_loss improved from 0.25750 to 0.20764, saving model to csmilingCNN1.hdf5\n",
      "Epoch 5/100\n",
      "2828/2828 [==============================] - 175s 62ms/step - loss: 0.2226 - acc: 0.8978 - val_loss: 0.2083 - val_acc: 0.9068\n",
      "\n",
      "Epoch 00005: val_loss did not improve\n",
      "Epoch 6/100\n",
      "2828/2828 [==============================] - 158s 56ms/step - loss: 0.1943 - acc: 0.9120 - val_loss: 0.2283 - val_acc: 0.8955\n",
      "\n",
      "Epoch 00006: val_loss did not improve\n",
      "Epoch 7/100\n",
      "2828/2828 [==============================] - 142s 50ms/step - loss: 0.1810 - acc: 0.9187 - val_loss: 0.2045 - val_acc: 0.8969\n",
      "\n",
      "Epoch 00007: val_loss improved from 0.20764 to 0.20449, saving model to csmilingCNN1.hdf5\n",
      "Epoch 8/100\n",
      "2828/2828 [==============================] - 135s 48ms/step - loss: 0.1512 - acc: 0.9360 - val_loss: 0.1624 - val_acc: 0.9322\n",
      "\n",
      "Epoch 00008: val_loss improved from 0.20449 to 0.16238, saving model to csmilingCNN1.hdf5\n",
      "Epoch 9/100\n",
      "2828/2828 [==============================] - 157s 55ms/step - loss: 0.1234 - acc: 0.9491 - val_loss: 0.2316 - val_acc: 0.9011\n",
      "\n",
      "Epoch 00009: val_loss did not improve\n",
      "Epoch 10/100\n",
      "2828/2828 [==============================] - 138s 49ms/step - loss: 0.1245 - acc: 0.9452 - val_loss: 0.1590 - val_acc: 0.9195\n",
      "\n",
      "Epoch 00010: val_loss improved from 0.16238 to 0.15905, saving model to csmilingCNN1.hdf5\n",
      "Epoch 11/100\n",
      "2828/2828 [==============================] - 139s 49ms/step - loss: 0.1200 - acc: 0.9498 - val_loss: 0.8075 - val_acc: 0.8277\n",
      "\n",
      "Epoch 00011: val_loss did not improve\n",
      "Epoch 12/100\n",
      "2828/2828 [==============================] - 135s 48ms/step - loss: 0.1081 - acc: 0.9526 - val_loss: 0.1756 - val_acc: 0.9124\n",
      "\n",
      "Epoch 00012: val_loss did not improve\n",
      "Epoch 13/100\n",
      "2828/2828 [==============================] - 124s 44ms/step - loss: 0.1063 - acc: 0.9526 - val_loss: 0.2001 - val_acc: 0.9082\n",
      "\n",
      "Epoch 00013: val_loss did not improve\n",
      "Epoch 14/100\n",
      "2828/2828 [==============================] - 123s 44ms/step - loss: 0.0889 - acc: 0.9607 - val_loss: 0.1473 - val_acc: 0.9322\n",
      "\n",
      "Epoch 00014: val_loss improved from 0.15905 to 0.14732, saving model to csmilingCNN1.hdf5\n",
      "Epoch 15/100\n",
      "2828/2828 [==============================] - 121s 43ms/step - loss: 0.0769 - acc: 0.9671 - val_loss: 0.1257 - val_acc: 0.9463\n",
      "\n",
      "Epoch 00015: val_loss improved from 0.14732 to 0.12570, saving model to csmilingCNN1.hdf5\n",
      "Epoch 16/100\n",
      "2828/2828 [==============================] - 124s 44ms/step - loss: 0.0727 - acc: 0.9682 - val_loss: 0.1397 - val_acc: 0.9407\n",
      "\n",
      "Epoch 00016: val_loss did not improve\n",
      "Epoch 17/100\n",
      "2828/2828 [==============================] - 125s 44ms/step - loss: 0.0736 - acc: 0.9703 - val_loss: 2.2921 - val_acc: 0.7980\n",
      "\n",
      "Epoch 00017: val_loss did not improve\n",
      "Epoch 18/100\n",
      "2828/2828 [==============================] - 126s 45ms/step - loss: 0.0849 - acc: 0.9629 - val_loss: 0.1547 - val_acc: 0.9266\n",
      "\n",
      "Epoch 00018: val_loss did not improve\n",
      "Epoch 19/100\n",
      "2828/2828 [==============================] - 125s 44ms/step - loss: 0.0703 - acc: 0.9721 - val_loss: 0.1781 - val_acc: 0.9223\n",
      "\n",
      "Epoch 00019: val_loss did not improve\n",
      "Epoch 20/100\n",
      "2828/2828 [==============================] - 125s 44ms/step - loss: 0.0603 - acc: 0.9738 - val_loss: 0.3259 - val_acc: 0.8884\n",
      "\n",
      "Epoch 00020: val_loss did not improve\n",
      "Epoch 21/100\n",
      "2828/2828 [==============================] - 132s 47ms/step - loss: 0.0639 - acc: 0.9721 - val_loss: 0.1397 - val_acc: 0.9322\n",
      "\n",
      "Epoch 00021: val_loss did not improve\n",
      "Epoch 22/100\n",
      "2828/2828 [==============================] - 141s 50ms/step - loss: 0.0645 - acc: 0.9724 - val_loss: 0.1555 - val_acc: 0.9322\n",
      "\n",
      "Epoch 00022: val_loss did not improve\n",
      "Epoch 23/100\n",
      "2828/2828 [==============================] - 137s 49ms/step - loss: 0.0549 - acc: 0.9795 - val_loss: 0.1454 - val_acc: 0.9449\n",
      "\n",
      "Epoch 00023: val_loss did not improve\n",
      "Epoch 24/100\n",
      "2828/2828 [==============================] - 151s 53ms/step - loss: 0.0484 - acc: 0.9802 - val_loss: 0.1588 - val_acc: 0.9364\n",
      "\n",
      "Epoch 00024: val_loss did not improve\n",
      "Epoch 25/100\n",
      "2828/2828 [==============================] - 141s 50ms/step - loss: 0.0459 - acc: 0.9806 - val_loss: 1.0004 - val_acc: 0.8446\n",
      "\n",
      "Epoch 00025: val_loss did not improve\n",
      "Epoch 00025: early stopping\n"
     ]
    }
   ],
   "source": [
    "historyCNN = csmilingmodel.fit(x=cx_train, y=cy_train, validation_split=0.2, epochs=100, batch_size=16,callbacks=[monitor,checkpointer], verbose=1)"
   ]
  },
  {
   "cell_type": "code",
   "execution_count": 28,
   "metadata": {},
   "outputs": [],
   "source": [
    "csmilingmodel.load_weights('csmilingCNN1.hdf5')\n",
    "csmilingmodel.save('csmiling.h5')"
   ]
  },
  {
   "cell_type": "code",
   "execution_count": 29,
   "metadata": {},
   "outputs": [
    {
     "name": "stdout",
     "output_type": "stream",
     "text": [
      "884/884 [==============================] - 13s 15ms/step\n",
      "\n",
      "Loss = 0.1520954852595049\n",
      "Test Accuracy = 0.9298642528542566\n"
     ]
    }
   ],
   "source": [
    "csmilingmodel.load_weights('csmilingCNN1.hdf5')\n",
    "preds =csmilingmodel.evaluate(x =cx_test, y =cy_test)\n",
    "\n",
    "print()\n",
    "print (\"Loss = \" + str(preds[0]))\n",
    "print (\"Test Accuracy = \" + str(preds[1]))"
   ]
  },
  {
   "cell_type": "code",
   "execution_count": 30,
   "metadata": {},
   "outputs": [],
   "source": [
    "import pandas as pd\n",
    "yhat=csmilingmodel.predict(cx_test)\n",
    "df =pd.DataFrame(x_testfiles)\n",
    "df['pred']=(np.round(yhat,0))\n",
    "pred=np.array(df)\n",
    "np.savetxt('Task1.csv', pred, delimiter=',',header=str(preds[1]))"
   ]
  },
  {
   "cell_type": "code",
   "execution_count": null,
   "metadata": {},
   "outputs": [],
   "source": []
  },
  {
   "cell_type": "code",
   "execution_count": null,
   "metadata": {},
   "outputs": [],
   "source": []
  },
  {
   "cell_type": "code",
   "execution_count": null,
   "metadata": {},
   "outputs": [],
   "source": []
  },
  {
   "cell_type": "code",
   "execution_count": null,
   "metadata": {},
   "outputs": [],
   "source": []
  },
  {
   "cell_type": "code",
   "execution_count": null,
   "metadata": {},
   "outputs": [],
   "source": []
  },
  {
   "cell_type": "markdown",
   "metadata": {},
   "source": [
    "# Plots"
   ]
  },
  {
   "cell_type": "code",
   "execution_count": 31,
   "metadata": {},
   "outputs": [
    {
     "data": {
      "image/png": "[encoded data removed]",
      "text/plain": [
       "<matplotlib.figure.Figure at 0x1a0009f2c18>"
      ]
     },
     "metadata": {},
     "output_type": "display_data"
    }
   ],
   "source": [
    "plt.plot(historyCNN.history['loss'])\n",
    "plt.plot(historyCNN.history['val_loss'])\n",
    "plt.title('Smiling Model loss CNN')\n",
    "plt.ylabel('loss')\n",
    "plt.xlabel('epoch')\n",
    "plt.legend(['train', 'test'], loc='upper left')\n",
    "plt.show()"
   ]
  },
  {
   "cell_type": "code",
   "execution_count": 32,
   "metadata": {},
   "outputs": [
    {
     "data": {
      "image/png": "[encoded data removed]",
      "text/plain": [
       "<matplotlib.figure.Figure at 0x1a000d35b70>"
      ]
     },
     "metadata": {},
     "output_type": "display_data"
    }
   ],
   "source": [
    "plt.plot(historyCNN.history['acc'])\n",
    "plt.plot(historyCNN.history['val_acc'])\n",
    "plt.title('Smiling Model accuracy CNN')\n",
    "plt.ylabel('accuracy')\n",
    "plt.xlabel('epoch')\n",
    "plt.legend(['train', 'test'], loc='upper left')\n",
    "plt.show()"
   ]
  },
  {
   "cell_type": "code",
   "execution_count": 33,
   "metadata": {},
   "outputs": [],
   "source": [
    "from sklearn.metrics import confusion_matrix\n",
    "conf= confusion_matrix(cy_test,np.round(yhat,0))"
   ]
  },
  {
   "cell_type": "code",
   "execution_count": 34,
   "metadata": {},
   "outputs": [
    {
     "data": {
      "text/plain": [
       "array([[173,  26],\n",
       "       [ 36, 649]], dtype=int64)"
      ]
     },
     "execution_count": 34,
     "metadata": {},
     "output_type": "execute_result"
    }
   ],
   "source": [
    "conf"
   ]
  },
  {
   "cell_type": "markdown",
   "metadata": {},
   "source": [
    "## Test dataset and csv"
   ]
  },
  {
   "cell_type": "code",
   "execution_count": null,
   "metadata": {},
   "outputs": [],
   "source": [
    "i=0\n",
    "NewTest=np.zeros((100,64,64,3))\n",
    "for x in range(1,101):\n",
    "    temp= image.load_img('testing_dataset/'+str(x)+'.png',target_size=(64,64))\n",
    "    NewTest[i,:,:,:]=image.img_to_array(temp)\n",
    "    i=i+1\n",
    "NewTest=NewTest/255\n",
    "\n",
    "yhat=glassmodel.predict(NewTest)\n",
    "yhat=np.round(yhat,0)\n",
    "df1 =pd.DataFrame(yhat)\n",
    "df = pd.DataFrame(list(range(1,101)))\n",
    "df['pred']=list(df1.max(axis=1))\n",
    "pred=np.array(df)\n",
    "np.savetxt('Testing_dataset_Task3.csv', pred, delimiter=',',header=str(preds[1]))"
   ]
  },
  {
   "cell_type": "code",
   "execution_count": null,
   "metadata": {},
   "outputs": [],
   "source": []
  }
 ],
 "metadata": {
  "kernelspec": {
   "display_name": "Python 3",
   "language": "python",
   "name": "python3"
  },
  "language_info": {
   "codemirror_mode": {
    "name": "ipython",
    "version": 3
   },
   "file_extension": ".py",
   "mimetype": "text/x-python",
   "name": "python",
   "nbconvert_exporter": "python",
   "pygments_lexer": "ipython3",
   "version": "3.6.4"
  }
 },
 "nbformat": 4,
 "nbformat_minor": 2
}
