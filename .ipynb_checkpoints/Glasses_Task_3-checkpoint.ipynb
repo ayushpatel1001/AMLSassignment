{
 "cells": [
  {
   "cell_type": "markdown",
   "metadata": {},
   "source": [
    "# Glasses Classification Task 2"
   ]
  },
  {
   "cell_type": "code",
   "execution_count": 1,
   "metadata": {},
   "outputs": [
    {
     "name": "stderr",
     "output_type": "stream",
     "text": [
      "Using TensorFlow backend.\n"
     ]
    }
   ],
   "source": [
    "import matplotlib.pyplot as plt\n",
    "from matplotlib.pyplot import imshow\n",
    "from Preprocessing import preprocessRGB,facefeaturesdlib\n",
    "import numpy as np\n",
    "from keras import layers\n",
    "from keras.layers import Input, Dense, Activation, ZeroPadding2D, BatchNormalization, Flatten, Conv2D,Dropout\n",
    "from keras.layers import MaxPooling2D \n",
    "from keras.models import Model\n",
    "from keras.preprocessing import image\n",
    "import pandas as pd\n",
    "import matplotlib.pyplot as plt\n",
    "from matplotlib.pyplot import imshow\n",
    "import h5py\n",
    "from keras.models import model_from_json\n",
    "from keras.callbacks import ModelCheckpoint\n",
    "from keras.callbacks import EarlyStopping\n"
   ]
  },
  {
   "cell_type": "markdown",
   "metadata": {},
   "source": [
    "__________________________________________________"
   ]
  },
  {
   "cell_type": "markdown",
   "metadata": {},
   "source": [
    "___________________________\n"
   ]
  },
  {
   "cell_type": "markdown",
   "metadata": {},
   "source": [
    "_______________________________________"
   ]
  },
  {
   "cell_type": "markdown",
   "metadata": {},
   "source": [
    "## Convolutional Neural Network"
   ]
  },
  {
   "cell_type": "code",
   "execution_count": 2,
   "metadata": {},
   "outputs": [],
   "source": [
    "def convModel(input_shape):\n",
    "    \n",
    "    \n",
    "    \n",
    "   \n",
    "    # Define the input placeholder as a tensor with shape input_shape. Think of this as your input image!\n",
    "    X_input = Input(input_shape)\n",
    "\n",
    "    # Zero-Padding: pads the border of X_input with zeroes\n",
    "    X = ZeroPadding2D((3, 3))(X_input)\n",
    "\n",
    "    # CONV -> BN -> RELU Block applied to X\n",
    "    X = Conv2D(32, (5, 5), strides = (1, 1), name = 'conv0')(X)\n",
    "    X = BatchNormalization(axis = 3, name = 'bn0')(X)\n",
    "    X = Activation('relu')(X)\n",
    "    #X = Dropout(.3)(X)\n",
    "    # MAXPOOL\n",
    "    X = MaxPooling2D((2, 2), name='max_pool_0')(X)\n",
    "    \n",
    "    \n",
    "    # CONV -> BN -> RELU Block applied to X\n",
    "    X = Conv2D(50, (2, 2), strides = (1, 1), name = 'conv1')(X)\n",
    "    X = BatchNormalization(axis = 3, name = 'bn1')(X)\n",
    "    X = Activation('relu')(X)\n",
    "    X = Dropout(.3)(X)\n",
    "    X = MaxPooling2D((3, 3), name='max_pool_1')(X)\n",
    "    \n",
    "    # FLATTEN X (means convert it to a vector) + FULLYCONNECTED\n",
    "    X = Flatten()(X)\n",
    "    X = Dense(256, activation='relu', name='fc0')(X)\n",
    "    X = Dropout(.3)(X)\n",
    "    X = Dense(128, activation='relu', name='fc1')(X)\n",
    "    X = Dropout(.3)(X)\n",
    "    X = Dense(1, activation='sigmoid', name='fc2')(X)\n",
    "    \n",
    "\n",
    "    # Create model. This creates your Keras model instance, you'll use this instance to train/test the model.\n",
    "    model = Model(inputs = X_input, outputs = X, name='cutomModel')\n",
    "\n",
    "    return model"
   ]
  },
  {
   "cell_type": "markdown",
   "metadata": {},
   "source": [
    "import images as rgb (64,64,3)"
   ]
  },
  {
   "cell_type": "code",
   "execution_count": 3,
   "metadata": {},
   "outputs": [],
   "source": [
    "x_testfiles,cx_train,cy_train,cx_test,cy_test=preprocessRGB('eyeglasses',.2,(64,64))"
   ]
  },
  {
   "cell_type": "markdown",
   "metadata": {},
   "source": [
    "Creating model , compiling it , creating callbacks for early stopping and plotting"
   ]
  },
  {
   "cell_type": "code",
   "execution_count": 4,
   "metadata": {},
   "outputs": [],
   "source": [
    "glassmodel=convModel(cx_train.shape[1:])\n",
    "#opt=Adam(lr=0.001, beta_1=0.9, beta_2=0.999, epsilon=None, decay=0.0, amsgrad=False)\n",
    "glassmodel.compile(optimizer='adam',loss='binary_crossentropy',metrics = [\"accuracy\"])\n",
    "monitor= EarlyStopping(monitor='val_loss',min_delta=1e-3,patience=10,verbose=1,mode='auto')\n",
    "checkpointer =ModelCheckpoint(filepath='glassCNN1.hdf5',verbose=1,save_best_only=True)"
   ]
  },
  {
   "cell_type": "markdown",
   "metadata": {},
   "source": [
    "Training CNN 50 mins with validation split and batch sizr 16 until improvement stops"
   ]
  },
  {
   "cell_type": "code",
   "execution_count": 5,
   "metadata": {},
   "outputs": [
    {
     "name": "stdout",
     "output_type": "stream",
     "text": [
      "Train on 2828 samples, validate on 708 samples\n",
      "Epoch 1/100\n",
      "2828/2828 [==============================] - 105s 37ms/step - loss: 0.7515 - acc: 0.7599 - val_loss: 0.3635 - val_acc: 0.8432\n",
      "\n",
      "Epoch 00001: val_loss improved from inf to 0.36348, saving model to glassCNN1.hdf5\n",
      "Epoch 2/100\n",
      "2828/2828 [==============================] - 107s 38ms/step - loss: 0.3025 - acc: 0.8812 - val_loss: 1.4546 - val_acc: 0.3856\n",
      "\n",
      "Epoch 00002: val_loss did not improve\n",
      "Epoch 3/100\n",
      "2828/2828 [==============================] - 109s 39ms/step - loss: 0.1928 - acc: 0.9282 - val_loss: 0.3766 - val_acc: 0.8785\n",
      "\n",
      "Epoch 00003: val_loss did not improve\n",
      "Epoch 4/100\n",
      "2828/2828 [==============================] - 114s 40ms/step - loss: 0.1511 - acc: 0.9477 - val_loss: 0.2361 - val_acc: 0.9223\n",
      "\n",
      "Epoch 00004: val_loss improved from 0.36348 to 0.23614, saving model to glassCNN1.hdf5\n",
      "Epoch 5/100\n",
      "2828/2828 [==============================] - 110s 39ms/step - loss: 0.1500 - acc: 0.9516 - val_loss: 0.1374 - val_acc: 0.9534\n",
      "\n",
      "Epoch 00005: val_loss improved from 0.23614 to 0.13737, saving model to glassCNN1.hdf5\n",
      "Epoch 6/100\n",
      "2828/2828 [==============================] - 112s 40ms/step - loss: 0.1046 - acc: 0.9653 - val_loss: 0.1141 - val_acc: 0.9746\n",
      "\n",
      "Epoch 00006: val_loss improved from 0.13737 to 0.11411, saving model to glassCNN1.hdf5\n",
      "Epoch 7/100\n",
      "2828/2828 [==============================] - 112s 40ms/step - loss: 0.0917 - acc: 0.9685 - val_loss: 0.3781 - val_acc: 0.8418\n",
      "\n",
      "Epoch 00007: val_loss did not improve\n",
      "Epoch 8/100\n",
      "2828/2828 [==============================] - 114s 40ms/step - loss: 0.0766 - acc: 0.9767 - val_loss: 0.1849 - val_acc: 0.9449\n",
      "\n",
      "Epoch 00008: val_loss did not improve\n",
      "Epoch 9/100\n",
      "2828/2828 [==============================] - 114s 40ms/step - loss: 0.0612 - acc: 0.9795 - val_loss: 0.0822 - val_acc: 0.9746\n",
      "\n",
      "Epoch 00009: val_loss improved from 0.11411 to 0.08219, saving model to glassCNN1.hdf5\n",
      "Epoch 10/100\n",
      "2828/2828 [==============================] - 114s 40ms/step - loss: 0.0638 - acc: 0.9823 - val_loss: 0.1036 - val_acc: 0.9703\n",
      "\n",
      "Epoch 00010: val_loss did not improve\n",
      "Epoch 11/100\n",
      "2828/2828 [==============================] - 113s 40ms/step - loss: 0.0498 - acc: 0.9862 - val_loss: 0.0970 - val_acc: 0.9689\n",
      "\n",
      "Epoch 00011: val_loss did not improve\n",
      "Epoch 12/100\n",
      "2828/2828 [==============================] - 115s 41ms/step - loss: 0.0464 - acc: 0.9841 - val_loss: 0.1201 - val_acc: 0.9633\n",
      "\n",
      "Epoch 00012: val_loss did not improve\n",
      "Epoch 13/100\n",
      "2828/2828 [==============================] - 145s 51ms/step - loss: 0.0422 - acc: 0.9848 - val_loss: 0.1228 - val_acc: 0.9675\n",
      "\n",
      "Epoch 00013: val_loss did not improve\n",
      "Epoch 14/100\n",
      "2828/2828 [==============================] - 131s 46ms/step - loss: 0.0326 - acc: 0.9901 - val_loss: 0.0712 - val_acc: 0.9774\n",
      "\n",
      "Epoch 00014: val_loss improved from 0.08219 to 0.07124, saving model to glassCNN1.hdf5\n",
      "Epoch 15/100\n",
      "2828/2828 [==============================] - 112s 40ms/step - loss: 0.0759 - acc: 0.9752 - val_loss: 0.2392 - val_acc: 0.9223\n",
      "\n",
      "Epoch 00015: val_loss did not improve\n",
      "Epoch 16/100\n",
      "2828/2828 [==============================] - 113s 40ms/step - loss: 0.0426 - acc: 0.9873 - val_loss: 0.0837 - val_acc: 0.9760\n",
      "\n",
      "Epoch 00016: val_loss did not improve\n",
      "Epoch 17/100\n",
      "2828/2828 [==============================] - 115s 41ms/step - loss: 0.0400 - acc: 0.9866 - val_loss: 0.0892 - val_acc: 0.9788\n",
      "\n",
      "Epoch 00017: val_loss did not improve\n",
      "Epoch 18/100\n",
      "2828/2828 [==============================] - 125s 44ms/step - loss: 0.0473 - acc: 0.9823 - val_loss: 0.2631 - val_acc: 0.8912\n",
      "\n",
      "Epoch 00018: val_loss did not improve\n",
      "Epoch 19/100\n",
      "2828/2828 [==============================] - 127s 45ms/step - loss: 0.0594 - acc: 0.9781 - val_loss: 0.0713 - val_acc: 0.9788\n",
      "\n",
      "Epoch 00019: val_loss did not improve\n",
      "Epoch 20/100\n",
      "2828/2828 [==============================] - 119s 42ms/step - loss: 0.0390 - acc: 0.9869 - val_loss: 0.4636 - val_acc: 0.7556\n",
      "\n",
      "Epoch 00020: val_loss did not improve\n",
      "Epoch 21/100\n",
      "2828/2828 [==============================] - 118s 42ms/step - loss: 0.0224 - acc: 0.9915 - val_loss: 0.0669 - val_acc: 0.9831\n",
      "\n",
      "Epoch 00021: val_loss improved from 0.07124 to 0.06692, saving model to glassCNN1.hdf5\n",
      "Epoch 22/100\n",
      "2828/2828 [==============================] - 118s 42ms/step - loss: 0.0330 - acc: 0.9883 - val_loss: 0.0940 - val_acc: 0.9746\n",
      "\n",
      "Epoch 00022: val_loss did not improve\n",
      "Epoch 23/100\n",
      "2828/2828 [==============================] - 118s 42ms/step - loss: 0.0229 - acc: 0.9926 - val_loss: 0.0809 - val_acc: 0.9774\n",
      "\n",
      "Epoch 00023: val_loss did not improve\n",
      "Epoch 24/100\n",
      "2828/2828 [==============================] - 115s 41ms/step - loss: 0.0368 - acc: 0.9894 - val_loss: 0.0649 - val_acc: 0.9831\n",
      "\n",
      "Epoch 00024: val_loss improved from 0.06692 to 0.06493, saving model to glassCNN1.hdf5\n",
      "Epoch 25/100\n",
      "2828/2828 [==============================] - 135s 48ms/step - loss: 0.0174 - acc: 0.9929 - val_loss: 0.0724 - val_acc: 0.9788\n",
      "\n",
      "Epoch 00025: val_loss did not improve\n",
      "Epoch 26/100\n",
      "2828/2828 [==============================] - 122s 43ms/step - loss: 0.0327 - acc: 0.9876 - val_loss: 0.0580 - val_acc: 0.9845\n",
      "\n",
      "Epoch 00026: val_loss improved from 0.06493 to 0.05800, saving model to glassCNN1.hdf5\n",
      "Epoch 27/100\n",
      "2828/2828 [==============================] - 117s 41ms/step - loss: 0.0205 - acc: 0.9940 - val_loss: 0.2123 - val_acc: 0.9449\n",
      "\n",
      "Epoch 00027: val_loss did not improve\n",
      "Epoch 28/100\n",
      "2828/2828 [==============================] - 123s 44ms/step - loss: 0.0195 - acc: 0.9943 - val_loss: 0.0755 - val_acc: 0.9802\n",
      "\n",
      "Epoch 00028: val_loss did not improve\n",
      "Epoch 29/100\n",
      "2828/2828 [==============================] - 122s 43ms/step - loss: 0.0214 - acc: 0.9940 - val_loss: 0.1311 - val_acc: 0.9576\n",
      "\n",
      "Epoch 00029: val_loss did not improve\n",
      "Epoch 30/100\n",
      "2828/2828 [==============================] - 118s 42ms/step - loss: 0.0162 - acc: 0.9950 - val_loss: 0.1581 - val_acc: 0.9477\n",
      "\n",
      "Epoch 00030: val_loss did not improve\n",
      "Epoch 31/100\n",
      "2828/2828 [==============================] - 116s 41ms/step - loss: 0.0403 - acc: 0.9866 - val_loss: 0.1362 - val_acc: 0.9605\n",
      "\n",
      "Epoch 00031: val_loss did not improve\n",
      "Epoch 32/100\n",
      "2828/2828 [==============================] - 116s 41ms/step - loss: 0.0172 - acc: 0.9943 - val_loss: 0.0717 - val_acc: 0.9831\n",
      "\n",
      "Epoch 00032: val_loss did not improve\n",
      "Epoch 33/100\n",
      "2828/2828 [==============================] - 119s 42ms/step - loss: 0.0112 - acc: 0.9958 - val_loss: 0.0652 - val_acc: 0.9816\n",
      "\n",
      "Epoch 00033: val_loss did not improve\n",
      "Epoch 34/100\n",
      "2828/2828 [==============================] - 116s 41ms/step - loss: 0.0112 - acc: 0.9961 - val_loss: 0.1225 - val_acc: 0.9576\n",
      "\n",
      "Epoch 00034: val_loss did not improve\n",
      "Epoch 35/100\n",
      "2828/2828 [==============================] - 115s 41ms/step - loss: 0.0193 - acc: 0.9933 - val_loss: 0.0649 - val_acc: 0.9802\n",
      "\n",
      "Epoch 00035: val_loss did not improve\n",
      "Epoch 36/100\n",
      "2828/2828 [==============================] - 114s 40ms/step - loss: 0.0263 - acc: 0.9919 - val_loss: 0.1705 - val_acc: 0.9633\n",
      "\n",
      "Epoch 00036: val_loss did not improve\n",
      "Epoch 00036: early stopping\n"
     ]
    }
   ],
   "source": [
    "historyCNN = glassmodel.fit(x=cx_train, y=cy_train, validation_split=0.2, epochs=100, batch_size=16,callbacks=[monitor,checkpointer], verbose=1)"
   ]
  },
  {
   "cell_type": "code",
   "execution_count": 6,
   "metadata": {},
   "outputs": [
    {
     "name": "stdout",
     "output_type": "stream",
     "text": [
      "884/884 [==============================] - 12s 13ms/step\n",
      "\n",
      "Loss = 0.1755210401671275\n",
      "Test Accuracy = 0.9694570135746606\n"
     ]
    }
   ],
   "source": [
    "glassmodel.load_weigths=('glassCNN1.hdf5')\n",
    "preds =glassmodel.evaluate(x =cx_test, y =cy_test)\n",
    "\n",
    "print()\n",
    "print (\"Loss = \" + str(preds[0]))\n",
    "print (\"Test Accuracy = \" + str(preds[1]))"
   ]
  },
  {
   "cell_type": "code",
   "execution_count": 7,
   "metadata": {},
   "outputs": [],
   "source": [
    "import pandas as pd\n",
    "yhat=glassmodel.predict(cx_test)\n",
    "df =pd.DataFrame(x_testfiles)\n",
    "df['pred']=(np.round(yhat,0))\n",
    "pred=np.array(df)\n",
    "np.savetxt('Task3.csv', pred, delimiter=',',header=str(preds[1]))"
   ]
  },
  {
   "cell_type": "code",
   "execution_count": 8,
   "metadata": {},
   "outputs": [
    {
     "data": {
      "image/png": "[encoded data removed]",
      "text/plain": [
       "<matplotlib.figure.Figure at 0x1c2a3ac72b0>"
      ]
     },
     "metadata": {},
     "output_type": "display_data"
    }
   ],
   "source": [
    "plt.plot(historyCNN.history['loss'])\n",
    "plt.plot(historyCNN.history['val_loss'])\n",
    "plt.title('glass Model loss CNN')\n",
    "plt.ylabel('loss')\n",
    "plt.xlabel('epoch')\n",
    "plt.legend(['train', 'test'], loc='upper left')\n",
    "plt.show()"
   ]
  },
  {
   "cell_type": "code",
   "execution_count": 9,
   "metadata": {},
   "outputs": [
    {
     "data": {
      "image/png": "[encoded data removed]",
      "text/plain": [
       "<matplotlib.figure.Figure at 0x1c2a3762e10>"
      ]
     },
     "metadata": {},
     "output_type": "display_data"
    }
   ],
   "source": [
    "plt.plot(historyCNN.history['acc'])\n",
    "plt.plot(historyCNN.history['val_acc'])\n",
    "plt.title('glass Model accuracy CNN')\n",
    "plt.ylabel('accuracy')\n",
    "plt.xlabel('epoch')\n",
    "plt.legend(['train', 'test'], loc='upper left')\n",
    "plt.show()"
   ]
  },
  {
   "cell_type": "code",
   "execution_count": 10,
   "metadata": {},
   "outputs": [],
   "source": [
    "from sklearn.metrics import confusion_matrix\n",
    "conf= confusion_matrix(cy_test,np.round(yhat,0))"
   ]
  },
  {
   "cell_type": "code",
   "execution_count": 11,
   "metadata": {},
   "outputs": [
    {
     "data": {
      "text/plain": [
       "array([[640,   0],\n",
       "       [ 27, 217]], dtype=int64)"
      ]
     },
     "execution_count": 11,
     "metadata": {},
     "output_type": "execute_result"
    }
   ],
   "source": [
    "conf"
   ]
  },
  {
   "cell_type": "code",
   "execution_count": null,
   "metadata": {},
   "outputs": [],
   "source": []
  },
  {
   "cell_type": "code",
   "execution_count": null,
   "metadata": {},
   "outputs": [],
   "source": []
  },
  {
   "cell_type": "code",
   "execution_count": null,
   "metadata": {},
   "outputs": [],
   "source": []
  }
 ],
 "metadata": {
  "kernelspec": {
   "display_name": "Python 3",
   "language": "python",
   "name": "python3"
  },
  "language_info": {
   "codemirror_mode": {
    "name": "ipython",
    "version": 3
   },
   "file_extension": ".py",
   "mimetype": "text/x-python",
   "name": "python",
   "nbconvert_exporter": "python",
   "pygments_lexer": "ipython3",
   "version": "3.6.4"
  }
 },
 "nbformat": 4,
 "nbformat_minor": 2
}
