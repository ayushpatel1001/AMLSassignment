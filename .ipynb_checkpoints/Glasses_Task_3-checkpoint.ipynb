{
 "cells": [
  {
   "cell_type": "markdown",
   "metadata": {},
   "source": [
    "# Glasses Classification Task 2"
   ]
  },
  {
   "cell_type": "code",
   "execution_count": 1,
   "metadata": {},
   "outputs": [
    {
     "name": "stderr",
     "output_type": "stream",
     "text": [
      "Using TensorFlow backend.\n"
     ]
    }
   ],
   "source": [
    "import matplotlib.pyplot as plt\n",
    "from matplotlib.pyplot import imshow\n",
    "from Preprocessing import preprocessRGB,facefeaturesdlib\n",
    "import numpy as np\n",
    "from keras import layers\n",
    "from keras.layers import Input, Dense, Activation, ZeroPadding2D, BatchNormalization, Flatten, Conv2D,Dropout\n",
    "from keras.layers import MaxPooling2D \n",
    "from keras.models import Model\n",
    "from keras.preprocessing import image\n",
    "import pandas as pd\n",
    "import matplotlib.pyplot as plt\n",
    "from matplotlib.pyplot import imshow\n",
    "import h5py\n",
    "from keras.models import model_from_json\n",
    "from keras.callbacks import ModelCheckpoint\n",
    "from keras.callbacks import EarlyStopping\n"
   ]
  },
  {
   "cell_type": "markdown",
   "metadata": {},
   "source": [
    "__________________________________________________"
   ]
  },
  {
   "cell_type": "markdown",
   "metadata": {},
   "source": [
    "___________________________\n"
   ]
  },
  {
   "cell_type": "markdown",
   "metadata": {},
   "source": [
    "_______________________________________"
   ]
  },
  {
   "cell_type": "markdown",
   "metadata": {},
   "source": [
    "## Convolutional Neural Network"
   ]
  },
  {
   "cell_type": "code",
   "execution_count": 2,
   "metadata": {},
   "outputs": [],
   "source": [
    "def convModel(input_shape):\n",
    "    \n",
    "    \n",
    "    \n",
    "   \n",
    "    # Define the input placeholder as a tensor with shape input_shape. Think of this as your input image!\n",
    "    X_input = Input(input_shape)\n",
    "\n",
    "    # Zero-Padding: pads the border of X_input with zeroes\n",
    "    X = ZeroPadding2D((3, 3))(X_input)\n",
    "\n",
    "    # CONV -> BN -> RELU Block applied to X\n",
    "    X = Conv2D(32, (5, 5), strides = (1, 1), name = 'conv0')(X)\n",
    "    X = BatchNormalization(axis = 3, name = 'bn0')(X)\n",
    "    X = Activation('relu')(X)\n",
    "    #X = Dropout(.3)(X)\n",
    "    # MAXPOOL\n",
    "    X = MaxPooling2D((2, 2), name='max_pool_0')(X)\n",
    "    \n",
    "    \n",
    "    # CONV -> BN -> RELU Block applied to X\n",
    "    X = Conv2D(50, (2, 2), strides = (1, 1), name = 'conv1')(X)\n",
    "    X = BatchNormalization(axis = 3, name = 'bn1')(X)\n",
    "    X = Activation('relu')(X)\n",
    "    X = Dropout(.3)(X)\n",
    "    X = MaxPooling2D((3, 3), name='max_pool_1')(X)\n",
    "    \n",
    "    # FLATTEN X (means convert it to a vector) + FULLYCONNECTED\n",
    "    X = Flatten()(X)\n",
    "    X = Dense(256, activation='relu', name='fc0')(X)\n",
    "    X = Dropout(.3)(X)\n",
    "    X = Dense(128, activation='relu', name='fc1')(X)\n",
    "    X = Dropout(.3)(X)\n",
    "    X = Dense(1, activation='sigmoid', name='fc2')(X)\n",
    "    \n",
    "\n",
    "    # Create model. This creates your Keras model instance, you'll use this instance to train/test the model.\n",
    "    model = Model(inputs = X_input, outputs = X, name='cutomModel')\n",
    "\n",
    "    return model"
   ]
  },
  {
   "cell_type": "markdown",
   "metadata": {},
   "source": [
    "import images as rgb (64,64,3)"
   ]
  },
  {
   "cell_type": "code",
   "execution_count": 6,
   "metadata": {},
   "outputs": [],
   "source": [
    "x_testfiles,cx_train,cy_train,cx_test,cy_test=preprocessRGB('eyeglasses',.2,(64,64))"
   ]
  },
  {
   "cell_type": "markdown",
   "metadata": {},
   "source": [
    "Creating model , compiling it , creating callbacks for early stopping and plotting"
   ]
  },
  {
   "cell_type": "code",
   "execution_count": 7,
   "metadata": {},
   "outputs": [],
   "source": [
    "glassmodel=convModel(cx_train.shape[1:])\n",
    "#opt=Adam(lr=0.001, beta_1=0.9, beta_2=0.999, epsilon=None, decay=0.0, amsgrad=False)\n",
    "glassmodel.compile(optimizer='adam',loss='binary_crossentropy',metrics = [\"accuracy\"])\n",
    "monitor= EarlyStopping(monitor='val_loss',min_delta=1e-3,patience=5,verbose=1,mode='auto')\n",
    "checkpointer =ModelCheckpoint(filepath='glassCNN1.hdf5',verbose=1,save_best_only=True)"
   ]
  },
  {
   "cell_type": "markdown",
   "metadata": {},
   "source": [
    "Training CNN 50 mins with validation split and batch sizr 16 until improvement stops"
   ]
  },
  {
   "cell_type": "code",
   "execution_count": 8,
   "metadata": {},
   "outputs": [
    {
     "name": "stdout",
     "output_type": "stream",
     "text": [
      "Train on 2828 samples, validate on 708 samples\n",
      "Epoch 1/100\n",
      "2828/2828 [==============================] - 142s 50ms/step - loss: 0.9109 - acc: 0.7595 - val_loss: 0.5736 - val_acc: 0.6737\n",
      "\n",
      "Epoch 00001: val_loss improved from inf to 0.57363, saving model to glassCNN1.hdf5\n",
      "Epoch 2/100\n",
      "2828/2828 [==============================] - 183s 65ms/step - loss: 0.3204 - acc: 0.8723 - val_loss: 0.3425 - val_acc: 0.8404\n",
      "\n",
      "Epoch 00002: val_loss improved from 0.57363 to 0.34248, saving model to glassCNN1.hdf5\n",
      "Epoch 3/100\n",
      "2828/2828 [==============================] - 170s 60ms/step - loss: 0.2175 - acc: 0.9222 - val_loss: 0.1642 - val_acc: 0.9562\n",
      "\n",
      "Epoch 00003: val_loss improved from 0.34248 to 0.16419, saving model to glassCNN1.hdf5\n",
      "Epoch 4/100\n",
      "2828/2828 [==============================] - 139s 49ms/step - loss: 0.1693 - acc: 0.9381 - val_loss: 0.1737 - val_acc: 0.9590\n",
      "\n",
      "Epoch 00004: val_loss did not improve\n",
      "Epoch 5/100\n",
      "2828/2828 [==============================] - 157s 56ms/step - loss: 0.1210 - acc: 0.9625 - val_loss: 0.2458 - val_acc: 0.9407\n",
      "\n",
      "Epoch 00005: val_loss did not improve\n",
      "Epoch 6/100\n",
      "2828/2828 [==============================] - 182s 64ms/step - loss: 0.1012 - acc: 0.9675 - val_loss: 0.6425 - val_acc: 0.6116\n",
      "\n",
      "Epoch 00006: val_loss did not improve\n",
      "Epoch 7/100\n",
      "2828/2828 [==============================] - 163s 58ms/step - loss: 0.0835 - acc: 0.9724 - val_loss: 0.0951 - val_acc: 0.9718\n",
      "\n",
      "Epoch 00007: val_loss improved from 0.16419 to 0.09506, saving model to glassCNN1.hdf5\n",
      "Epoch 8/100\n",
      "2828/2828 [==============================] - 145s 51ms/step - loss: 0.0826 - acc: 0.9728 - val_loss: 0.1710 - val_acc: 0.9633\n",
      "\n",
      "Epoch 00008: val_loss did not improve\n",
      "Epoch 9/100\n",
      "2828/2828 [==============================] - 126s 45ms/step - loss: 0.0649 - acc: 0.9763 - val_loss: 0.1178 - val_acc: 0.9718\n",
      "\n",
      "Epoch 00009: val_loss did not improve\n",
      "Epoch 10/100\n",
      "2828/2828 [==============================] - 123s 43ms/step - loss: 0.0752 - acc: 0.9777 - val_loss: 0.1431 - val_acc: 0.9647\n",
      "\n",
      "Epoch 00010: val_loss did not improve\n",
      "Epoch 11/100\n",
      "2828/2828 [==============================] - 126s 45ms/step - loss: 0.0541 - acc: 0.9823 - val_loss: 0.2506 - val_acc: 0.9124\n",
      "\n",
      "Epoch 00011: val_loss did not improve\n",
      "Epoch 12/100\n",
      "2828/2828 [==============================] - 123s 44ms/step - loss: 0.0471 - acc: 0.9876 - val_loss: 0.0735 - val_acc: 0.9746\n",
      "\n",
      "Epoch 00012: val_loss improved from 0.09506 to 0.07348, saving model to glassCNN1.hdf5\n",
      "Epoch 13/100\n",
      "2828/2828 [==============================] - 124s 44ms/step - loss: 0.0426 - acc: 0.9880 - val_loss: 0.0839 - val_acc: 0.9760\n",
      "\n",
      "Epoch 00013: val_loss did not improve\n",
      "Epoch 14/100\n",
      "2828/2828 [==============================] - 121s 43ms/step - loss: 0.0358 - acc: 0.9897 - val_loss: 0.2657 - val_acc: 0.8997\n",
      "\n",
      "Epoch 00014: val_loss did not improve\n",
      "Epoch 15/100\n",
      "2828/2828 [==============================] - 152s 54ms/step - loss: 0.0424 - acc: 0.9855 - val_loss: 0.1218 - val_acc: 0.9633\n",
      "\n",
      "Epoch 00015: val_loss did not improve\n",
      "Epoch 16/100\n",
      "2828/2828 [==============================] - 142s 50ms/step - loss: 0.0385 - acc: 0.9883 - val_loss: 0.1155 - val_acc: 0.9633\n",
      "\n",
      "Epoch 00016: val_loss did not improve\n",
      "Epoch 17/100\n",
      "2828/2828 [==============================] - 142s 50ms/step - loss: 0.0446 - acc: 0.9844 - val_loss: 0.0698 - val_acc: 0.9802\n",
      "\n",
      "Epoch 00017: val_loss improved from 0.07348 to 0.06980, saving model to glassCNN1.hdf5\n",
      "Epoch 18/100\n",
      "2828/2828 [==============================] - 139s 49ms/step - loss: 0.0187 - acc: 0.9950 - val_loss: 0.0606 - val_acc: 0.9788\n",
      "\n",
      "Epoch 00018: val_loss improved from 0.06980 to 0.06059, saving model to glassCNN1.hdf5\n",
      "Epoch 19/100\n",
      "2828/2828 [==============================] - 139s 49ms/step - loss: 0.0466 - acc: 0.9816 - val_loss: 0.0821 - val_acc: 0.9746\n",
      "\n",
      "Epoch 00019: val_loss did not improve\n",
      "Epoch 20/100\n",
      "2828/2828 [==============================] - 142s 50ms/step - loss: 0.0291 - acc: 0.9915 - val_loss: 0.1037 - val_acc: 0.9661\n",
      "\n",
      "Epoch 00020: val_loss did not improve\n",
      "Epoch 21/100\n",
      "2828/2828 [==============================] - 137s 49ms/step - loss: 0.0252 - acc: 0.9905 - val_loss: 1.2486 - val_acc: 0.5664\n",
      "\n",
      "Epoch 00021: val_loss did not improve\n",
      "Epoch 22/100\n",
      "2828/2828 [==============================] - 145s 51ms/step - loss: 0.0277 - acc: 0.9897 - val_loss: 0.1057 - val_acc: 0.9647\n",
      "\n",
      "Epoch 00022: val_loss did not improve\n",
      "Epoch 23/100\n",
      "2828/2828 [==============================] - 139s 49ms/step - loss: 0.0214 - acc: 0.9929 - val_loss: 0.0764 - val_acc: 0.9732\n",
      "\n",
      "Epoch 00023: val_loss did not improve\n",
      "Epoch 00023: early stopping\n"
     ]
    }
   ],
   "source": [
    "historyCNN = glassmodel.fit(x=cx_train, y=cy_train, validation_split=0.2, epochs=100, batch_size=16,callbacks=[monitor,checkpointer], verbose=1)"
   ]
  },
  {
   "cell_type": "markdown",
   "metadata": {},
   "source": [
    "Save Model"
   ]
  },
  {
   "cell_type": "code",
   "execution_count": 10,
   "metadata": {},
   "outputs": [],
   "source": [
    "glassmodel.load_weights('glassCNN1.hdf5')\n",
    "glassmodel.save('glassCNN.h5')"
   ]
  },
  {
   "cell_type": "markdown",
   "metadata": {},
   "source": [
    "Evaluation"
   ]
  },
  {
   "cell_type": "code",
   "execution_count": 11,
   "metadata": {},
   "outputs": [
    {
     "name": "stdout",
     "output_type": "stream",
     "text": [
      "884/884 [==============================] - 12s 14ms/step\n",
      "\n",
      "Loss = 0.048963846238456434\n",
      "Test Accuracy = 0.9864253390968115\n"
     ]
    }
   ],
   "source": [
    "from keras.models import load_model\n",
    "glassmodel= load_model('glassCNN.h5')\n",
    "preds =glassmodel.evaluate(x =cx_test, y =cy_test)\n",
    "\n",
    "print()\n",
    "print (\"Loss = \" + str(preds[0]))\n",
    "print (\"Test Accuracy = \" + str(preds[1]))"
   ]
  },
  {
   "cell_type": "code",
   "execution_count": null,
   "metadata": {},
   "outputs": [],
   "source": []
  },
  {
   "cell_type": "markdown",
   "metadata": {},
   "source": [
    "## Plotting Graphs and exporting csv"
   ]
  },
  {
   "cell_type": "code",
   "execution_count": 12,
   "metadata": {},
   "outputs": [],
   "source": [
    "import pandas as pd\n",
    "yhat=glassmodel.predict(cx_test)\n",
    "df =pd.DataFrame(x_testfiles)\n",
    "df['pred']=(np.round(yhat,0))\n",
    "pred=np.array(df)\n",
    "np.savetxt('Task3.csv', pred, delimiter=',',header=str(preds[1]))"
   ]
  },
  {
   "cell_type": "code",
   "execution_count": 13,
   "metadata": {},
   "outputs": [
    {
     "data": {
      "image/png": "[encoded data removed]",
      "text/plain": [
       "<matplotlib.figure.Figure at 0x218025a20f0>"
      ]
     },
     "metadata": {},
     "output_type": "display_data"
    }
   ],
   "source": [
    "plt.plot(historyCNN.history['loss'])\n",
    "plt.plot(historyCNN.history['val_loss'])\n",
    "plt.title('glass Model loss CNN')\n",
    "plt.ylabel('loss')\n",
    "plt.xlabel('epoch')\n",
    "plt.legend(['train', 'test'], loc='upper left')\n",
    "plt.show()"
   ]
  },
  {
   "cell_type": "code",
   "execution_count": 14,
   "metadata": {},
   "outputs": [
    {
     "data": {
      "image/png": "[encoded data removed]",
      "text/plain": [
       "<matplotlib.figure.Figure at 0x21805a470f0>"
      ]
     },
     "metadata": {},
     "output_type": "display_data"
    }
   ],
   "source": [
    "plt.plot(historyCNN.history['acc'])\n",
    "plt.plot(historyCNN.history['val_acc'])\n",
    "plt.title('glass Model accuracy CNN')\n",
    "plt.ylabel('accuracy')\n",
    "plt.xlabel('epoch')\n",
    "plt.legend(['train', 'test'], loc='upper left')\n",
    "plt.show()"
   ]
  },
  {
   "cell_type": "code",
   "execution_count": 15,
   "metadata": {},
   "outputs": [],
   "source": [
    "from sklearn.metrics import confusion_matrix\n",
    "conf= confusion_matrix(cy_test,np.round(yhat,0))"
   ]
  },
  {
   "cell_type": "code",
   "execution_count": 16,
   "metadata": {},
   "outputs": [
    {
     "data": {
      "text/plain": [
       "array([[624,   5],\n",
       "       [  7, 248]], dtype=int64)"
      ]
     },
     "execution_count": 16,
     "metadata": {},
     "output_type": "execute_result"
    }
   ],
   "source": [
    "conf"
   ]
  },
  {
   "cell_type": "markdown",
   "metadata": {},
   "source": [
    "## Test Dataset "
   ]
  },
  {
   "cell_type": "code",
   "execution_count": 17,
   "metadata": {},
   "outputs": [],
   "source": [
    "i=0\n",
    "NewTest=np.zeros((100,64,64,3))\n",
    "for x in range(1,101):\n",
    "    temp= image.load_img('testing_dataset/'+str(x)+'.png',target_size=(64,64))\n",
    "    NewTest[i,:,:,:]=image.img_to_array(temp)\n",
    "    i=i+1\n",
    "NewTest=NewTest/255\n",
    "\n",
    "yhat=glassmodel.predict(NewTest)\n",
    "yhat=np.round(yhat,0)\n",
    "df1 =pd.DataFrame(yhat)\n",
    "df = pd.DataFrame(list(range(1,101)))\n",
    "df['pred']=list(df1.max(axis=1))\n",
    "pred=np.array(df)\n",
    "np.savetxt('Testing_dataset_Task3.csv', pred, delimiter=',',header=str(preds[1]))"
   ]
  },
  {
   "cell_type": "code",
   "execution_count": null,
   "metadata": {},
   "outputs": [],
   "source": []
  }
 ],
 "metadata": {
  "kernelspec": {
   "display_name": "Python 3",
   "language": "python",
   "name": "python3"
  },
  "language_info": {
   "codemirror_mode": {
    "name": "ipython",
    "version": 3
   },
   "file_extension": ".py",
   "mimetype": "text/x-python",
   "name": "python",
   "nbconvert_exporter": "python",
   "pygments_lexer": "ipython3",
   "version": "3.6.4"
  }
 },
 "nbformat": 4,
 "nbformat_minor": 2
}
