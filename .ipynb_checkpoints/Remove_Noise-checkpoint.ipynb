{
 "cells": [
  {
   "cell_type": "code",
   "execution_count": 10,
   "metadata": {},
   "outputs": [],
   "source": [
    "import numpy as np\n",
    "import cv2\n",
    "import dlib\n",
    "import os\n",
    "\n",
    "base_dir='floyd/'\n",
    "detector = dlib.get_frontal_face_detector()\n",
    "\n",
    "faces=[]\n",
    "for x in range (1,5001):\n",
    "    img_path=('dataset/'+str(x)+'.png')\n",
    "    img = cv2.imread(img_path)\n",
    "    \n",
    "    gray = img.astype('uint8')\n",
    "    gray = cv2.cvtColor(gray, cv2.COLOR_BGR2GRAY)\n",
    "    gray = gray.astype('uint8')\n",
    "    rects = detector(gray, 1)\n",
    "    if len(rects)==0:\n",
    "        faces.append([x,0])\n",
    "    else:\n",
    "        faces.append([x,1])\n",
    "    \n",
    "\n",
    "npfaces=np.array(faces)\n",
    "np.savetxt(\"noise_classified.csv\", npfaces, delimiter=\",\")"
   ]
  },
  {
   "cell_type": "code",
   "execution_count": 25,
   "metadata": {},
   "outputs": [
    {
     "data": {
      "text/plain": [
       "'dataset/5000.png'"
      ]
     },
     "execution_count": 25,
     "metadata": {},
     "output_type": "execute_result"
    }
   ],
   "source": [
    "img_path\n"
   ]
  },
  {
   "cell_type": "code",
   "execution_count": null,
   "metadata": {},
   "outputs": [],
   "source": []
  }
 ],
 "metadata": {
  "kernelspec": {
   "display_name": "Python 3",
   "language": "python",
   "name": "python3"
  },
  "language_info": {
   "codemirror_mode": {
    "name": "ipython",
    "version": 3
   },
   "file_extension": ".py",
   "mimetype": "text/x-python",
   "name": "python",
   "nbconvert_exporter": "python",
   "pygments_lexer": "ipython3",
   "version": "3.6.4"
  }
 },
 "nbformat": 4,
 "nbformat_minor": 2
}
