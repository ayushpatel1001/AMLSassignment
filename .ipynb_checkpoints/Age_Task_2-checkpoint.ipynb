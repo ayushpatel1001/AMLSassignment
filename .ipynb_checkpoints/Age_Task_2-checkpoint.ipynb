{
 "cells": [
  {
   "cell_type": "markdown",
   "metadata": {},
   "source": [
    "# Age Classification Task 2"
   ]
  },
  {
   "cell_type": "code",
   "execution_count": 1,
   "metadata": {},
   "outputs": [
    {
     "name": "stderr",
     "output_type": "stream",
     "text": [
      "Using TensorFlow backend.\n"
     ]
    }
   ],
   "source": [
    "import matplotlib.pyplot as plt\n",
    "from matplotlib.pyplot import imshow\n",
    "from Preprocessing import preprocessRGB,facefeaturesdlib\n",
    "import numpy as np\n",
    "from keras import layers\n",
    "from keras.layers import Input, Dense, Activation, ZeroPadding2D, BatchNormalization, Flatten, Conv2D,Dropout\n",
    "from keras.layers import MaxPooling2D \n",
    "from keras.models import Model\n",
    "from keras.preprocessing import image\n",
    "import pandas as pd\n",
    "import matplotlib.pyplot as plt\n",
    "from matplotlib.pyplot import imshow\n",
    "import h5py\n",
    "from keras.models import model_from_json\n",
    "from keras.callbacks import ModelCheckpoint\n",
    "from keras.callbacks import EarlyStopping\n"
   ]
  },
  {
   "cell_type": "markdown",
   "metadata": {},
   "source": [
    "getting features in x_train,y_train,x_test,y_test for smiling attribute with testsize of 30% will take some time"
   ]
  },
  {
   "cell_type": "code",
   "execution_count": 37,
   "metadata": {},
   "outputs": [],
   "source": [
    "x_train,y_train,x_test,y_test=facefeaturesdlib('smiling',.3,(64,64))\n",
    "x_train=np.reshape(x_train,(x_train.shape[0],136),'f')\n",
    "x_test=np.reshape(x_test,(x_test.shape[0],136),'f')\n",
    "np.savetxt(\"x_train_featuresdlib.csv\", x_train, delimiter=\",\")\n",
    "np.savetxt(\"y_train_featuresdlib.csv\", y_train, delimiter=\",\")\n",
    "np.savetxt(\"x_test_featuresdlib.csv\", x_test, delimiter=\",\")\n",
    "np.savetxt(\"y_test_featuresdlib.csv\", y_test, delimiter=\",\")"
   ]
  },
  {
   "cell_type": "markdown",
   "metadata": {},
   "source": [
    "Use bellow cell to save time"
   ]
  },
  {
   "cell_type": "code",
   "execution_count": 38,
   "metadata": {},
   "outputs": [
    {
     "data": {
      "text/plain": [
       "(1302, 136)"
      ]
     },
     "execution_count": 38,
     "metadata": {},
     "output_type": "execute_result"
    }
   ],
   "source": [
    "x_test.shape"
   ]
  },
  {
   "cell_type": "code",
   "execution_count": 19,
   "metadata": {},
   "outputs": [],
   "source": [
    "\n",
    "x_train = np.genfromtxt(\"x_train_featuresdlib.csv\", delimiter=',')\n",
    "y_train = np.genfromtxt(\"y_train_featuresdlib.csv\", delimiter=',')\n",
    "x_test = np.genfromtxt(\"x_test_featuresdlib.csv\", delimiter=',')\n",
    "y_test = np.genfromtxt(\"y_test_featuresdlib.csv\", delimiter=',')"
   ]
  },
  {
   "cell_type": "code",
   "execution_count": 42,
   "metadata": {},
   "outputs": [
    {
     "data": {
      "text/plain": [
       "(3035, 68, 2)"
      ]
     },
     "execution_count": 42,
     "metadata": {},
     "output_type": "execute_result"
    }
   ],
   "source": [
    "x_trainNN=np.reshape(x_train,(x_train.shape[0],68,2),'f')\n",
    "x_testNN=np.reshape(x_test,(x_test.shape[0],68,2),'f')\n",
    "x_trainNN.shape"
   ]
  },
  {
   "cell_type": "markdown",
   "metadata": {},
   "source": [
    "checking if features are correct"
   ]
  },
  {
   "cell_type": "code",
   "execution_count": 34,
   "metadata": {},
   "outputs": [
    {
     "data": {
      "text/plain": [
       "(3036,)"
      ]
     },
     "execution_count": 34,
     "metadata": {},
     "output_type": "execute_result"
    },
    {
     "data": {
      "image/png": "[encoded data removed]",
      "text/plain": [
       "<matplotlib.figure.Figure at 0x2c225c5eb38>"
      ]
     },
     "metadata": {},
     "output_type": "display_data"
    }
   ],
   "source": [
    "p=10\n",
    "plt.scatter(x_trainNN[p,:,0],x_trainNN[p,:,1])\n",
    "y_train.shape"
   ]
  },
  {
   "cell_type": "markdown",
   "metadata": {},
   "source": [
    "## Support Vector Machine"
   ]
  },
  {
   "cell_type": "code",
   "execution_count": 12,
   "metadata": {},
   "outputs": [],
   "source": [
    "from sklearn.svm import SVC\n",
    "smilingsvm= SVC(kernel='rbf')\n",
    "xtrain=np.reshape(x_train,(x_train.shape[0],136),'f')# reshaping into 2d for SVM \n"
   ]
  },
  {
   "cell_type": "code",
   "execution_count": 39,
   "metadata": {},
   "outputs": [
    {
     "data": {
      "text/plain": [
       "SVC(C=1.0, cache_size=200, class_weight=None, coef0=0.0,\n",
       "  decision_function_shape='ovr', degree=3, gamma='auto', kernel='rbf',\n",
       "  max_iter=-1, probability=False, random_state=None, shrinking=True,\n",
       "  tol=0.001, verbose=False)"
      ]
     },
     "execution_count": 39,
     "metadata": {},
     "output_type": "execute_result"
    }
   ],
   "source": [
    "smilingsvm.fit(x_train,y_train)"
   ]
  },
  {
   "cell_type": "code",
   "execution_count": 40,
   "metadata": {},
   "outputs": [],
   "source": [
    "yhat=smilingsvm.predict(x_test)"
   ]
  },
  {
   "cell_type": "code",
   "execution_count": 41,
   "metadata": {},
   "outputs": [
    {
     "data": {
      "text/plain": [
       "0.7980030721966206"
      ]
     },
     "execution_count": 41,
     "metadata": {},
     "output_type": "execute_result"
    }
   ],
   "source": [
    "from sklearn.metrics import accuracy_score\n",
    "accuracy_score(y_test,yhat)\n"
   ]
  },
  {
   "cell_type": "code",
   "execution_count": 36,
   "metadata": {},
   "outputs": [],
   "source": [
    "i=np.reshape(x_train,(3094,136),'f')"
   ]
  },
  {
   "cell_type": "markdown",
   "metadata": {},
   "source": [
    "## Neural Network (fully Connected)"
   ]
  },
  {
   "cell_type": "code",
   "execution_count": 59,
   "metadata": {},
   "outputs": [],
   "source": [
    "def customModel(input_shape):\n",
    "    \n",
    "    \n",
    "    \n",
    "    # Define the input placeholder as a tensor with shape input_shape. Think of this as your input image!\n",
    "    X_input = Input(input_shape)\n",
    "\n",
    "   \n",
    "    # FLATTEN X (means convert it to a vector) + FULLYCONNECTED\n",
    "    #X = Flatten()(X_input)\n",
    "    X = Dense(256, activation='relu', name='fc0')(X_input)\n",
    "    X = Dropout(.3)(X)\n",
    "    X = Dense(128, activation='relu', name='fc1')(X)\n",
    "    X = Dropout(.3)(X)\n",
    "    X = Dense(128, activation='relu', name='fc2')(X)\n",
    "    X = Dropout(.3)(X)\n",
    "    X = Dense(128, activation='relu', name='fc3')(X)\n",
    "    X = Dropout(.3)(X)\n",
    "    X = Dense(1, activation='sigmoid', name='fc4')(X)\n",
    "    \n",
    "\n",
    "    # Create model. This creates your Keras model instance, you'll use this instance to train/test the model.\n",
    "    model = Model(inputs = X_input, outputs = X, name='cutomModel')\n",
    "\n",
    "    return model"
   ]
  },
  {
   "cell_type": "code",
   "execution_count": 78,
   "metadata": {},
   "outputs": [
    {
     "name": "stdout",
     "output_type": "stream",
     "text": [
      "Train on 2428 samples, validate on 607 samples\n",
      "Epoch 1/100\n",
      "2428/2428 [==============================] - 2s 837us/step - loss: 3.5941 - acc: 0.7718 - val_loss: 3.7558 - val_acc: 0.7644\n",
      "\n",
      "Epoch 00001: val_loss improved from inf to 3.75578, saving model to smilingDLIBNN.hdf5\n",
      "Epoch 2/100\n",
      "2428/2428 [==============================] - 1s 242us/step - loss: 3.3947 - acc: 0.7871 - val_loss: 3.7558 - val_acc: 0.7644\n",
      "\n",
      "Epoch 00002: val_loss did not improve\n",
      "Epoch 3/100\n",
      "2428/2428 [==============================] - 1s 241us/step - loss: 3.3815 - acc: 0.7879 - val_loss: 3.7558 - val_acc: 0.7644\n",
      "\n",
      "Epoch 00003: val_loss did not improve\n",
      "Epoch 4/100\n",
      "2428/2428 [==============================] - 0s 177us/step - loss: 3.3881 - acc: 0.7875 - val_loss: 3.7558 - val_acc: 0.7644\n",
      "\n",
      "Epoch 00004: val_loss did not improve\n",
      "Epoch 5/100\n",
      "2428/2428 [==============================] - 0s 191us/step - loss: 3.3881 - acc: 0.7875 - val_loss: 3.7558 - val_acc: 0.7644\n",
      "\n",
      "Epoch 00005: val_loss did not improve\n",
      "Epoch 6/100\n",
      "2428/2428 [==============================] - 0s 137us/step - loss: 3.3922 - acc: 0.7871 - val_loss: 3.7558 - val_acc: 0.7644\n",
      "\n",
      "Epoch 00006: val_loss did not improve\n",
      "Epoch 7/100\n",
      "2428/2428 [==============================] - 0s 151us/step - loss: 3.3881 - acc: 0.7875 - val_loss: 3.7558 - val_acc: 0.7644\n",
      "\n",
      "Epoch 00007: val_loss did not improve\n",
      "Epoch 8/100\n",
      "2428/2428 [==============================] - 0s 169us/step - loss: 3.3881 - acc: 0.7875 - val_loss: 3.7558 - val_acc: 0.7644\n",
      "\n",
      "Epoch 00008: val_loss did not improve\n",
      "Epoch 9/100\n",
      "2428/2428 [==============================] - 0s 199us/step - loss: 3.3881 - acc: 0.7875 - val_loss: 3.7558 - val_acc: 0.7644\n",
      "\n",
      "Epoch 00009: val_loss did not improve\n",
      "Epoch 10/100\n",
      "2428/2428 [==============================] - 0s 202us/step - loss: 3.3881 - acc: 0.7875 - val_loss: 3.7558 - val_acc: 0.7644\n",
      "\n",
      "Epoch 00010: val_loss did not improve\n",
      "Epoch 11/100\n",
      "2428/2428 [==============================] - 0s 156us/step - loss: 3.3881 - acc: 0.7875 - val_loss: 3.7558 - val_acc: 0.7644\n",
      "\n",
      "Epoch 00011: val_loss did not improve\n",
      "Epoch 12/100\n",
      "2428/2428 [==============================] - 0s 150us/step - loss: 3.3881 - acc: 0.7875 - val_loss: 3.7558 - val_acc: 0.7644\n",
      "\n",
      "Epoch 00012: val_loss did not improve\n",
      "Epoch 13/100\n",
      "2428/2428 [==============================] - 0s 163us/step - loss: 3.3881 - acc: 0.7875 - val_loss: 3.7558 - val_acc: 0.7644\n",
      "\n",
      "Epoch 00013: val_loss did not improve\n",
      "Epoch 14/100\n",
      "2428/2428 [==============================] - 0s 150us/step - loss: 3.3881 - acc: 0.7875 - val_loss: 3.7558 - val_acc: 0.7644\n",
      "\n",
      "Epoch 00014: val_loss did not improve\n",
      "Epoch 15/100\n",
      "2428/2428 [==============================] - 0s 147us/step - loss: 3.3881 - acc: 0.7875 - val_loss: 3.7558 - val_acc: 0.7644\n",
      "\n",
      "Epoch 00015: val_loss did not improve\n",
      "Epoch 16/100\n",
      "2428/2428 [==============================] - 0s 142us/step - loss: 3.3881 - acc: 0.7875 - val_loss: 3.7558 - val_acc: 0.7644\n",
      "\n",
      "Epoch 00016: val_loss did not improve\n",
      "Epoch 00016: early stopping\n"
     ]
    }
   ],
   "source": [
    "from keras.optimizers import Adam\n",
    "smilingmodel=customModel(x_train.shape[1:])\n",
    "opt=Adam(lr=0.001, beta_1=0.5, beta_2=0.999, epsilon=None, decay=0.0, amsgrad=False)\n",
    "smilingmodel.compile(opt,loss='binary_crossentropy',metrics = [\"accuracy\"])\n",
    "monitor= EarlyStopping(monitor='val_loss',min_delta=1e-3,patience=15,verbose=1,mode='auto')\n",
    "checkpointer =ModelCheckpoint(filepath='smilingDLIBNN.hdf5',verbose=1,save_best_only=True)\n",
    "historyNN = smilingmodel.fit(x=x_train, y=y_train, validation_split=0.2, epochs=100, batch_size=32,callbacks=[monitor,checkpointer], verbose=1)"
   ]
  },
  {
   "cell_type": "code",
   "execution_count": 83,
   "metadata": {},
   "outputs": [
    {
     "name": "stdout",
     "output_type": "stream",
     "text": [
      "Train on 2428 samples, validate on 607 samples\n",
      "Epoch 1/100\n",
      "2428/2428 [==============================] - 2s 749us/step - loss: 8.9573 - acc: 0.4102 - val_loss: 3.7476 - val_acc: 0.7644\n",
      "\n",
      "Epoch 00001: val_loss improved from inf to 3.74755, saving model to smilingDLIBNN.hdf5\n",
      "Epoch 2/100\n",
      "2428/2428 [==============================] - 0s 151us/step - loss: 7.3994 - acc: 0.5078 - val_loss: 3.7558 - val_acc: 0.7644\n",
      "\n",
      "Epoch 00002: val_loss did not improve\n",
      "Epoch 3/100\n",
      "2428/2428 [==============================] - 0s 148us/step - loss: 5.9518 - acc: 0.6038 - val_loss: 3.7558 - val_acc: 0.7644\n",
      "\n",
      "Epoch 00003: val_loss did not improve\n",
      "Epoch 4/100\n",
      "2428/2428 [==============================] - 0s 149us/step - loss: 5.0594 - acc: 0.6627 - val_loss: 3.7558 - val_acc: 0.7644\n",
      "\n",
      "Epoch 00004: val_loss did not improve\n",
      "Epoch 5/100\n",
      "2428/2428 [==============================] - 0s 141us/step - loss: 4.7673 - acc: 0.6841 - val_loss: 3.7558 - val_acc: 0.7644\n",
      "\n",
      "Epoch 00005: val_loss did not improve\n",
      "Epoch 6/100\n",
      "2428/2428 [==============================] - 0s 142us/step - loss: 4.2638 - acc: 0.7195 - val_loss: 3.7558 - val_acc: 0.7644\n",
      "\n",
      "Epoch 00006: val_loss did not improve\n",
      "Epoch 7/100\n",
      "2428/2428 [==============================] - 0s 148us/step - loss: 3.9441 - acc: 0.7446 - val_loss: 3.7558 - val_acc: 0.7644\n",
      "\n",
      "Epoch 00007: val_loss did not improve\n",
      "Epoch 8/100\n",
      "2428/2428 [==============================] - 0s 147us/step - loss: 3.8816 - acc: 0.7488 - val_loss: 3.7558 - val_acc: 0.7644\n",
      "\n",
      "Epoch 00008: val_loss did not improve\n",
      "Epoch 9/100\n",
      "2428/2428 [==============================] - 0s 161us/step - loss: 3.7531 - acc: 0.7578 - val_loss: 3.7558 - val_acc: 0.7644\n",
      "\n",
      "Epoch 00009: val_loss did not improve\n",
      "Epoch 10/100\n",
      "2428/2428 [==============================] - 0s 193us/step - loss: 3.7404 - acc: 0.7615 - val_loss: 3.7558 - val_acc: 0.7644\n",
      "\n",
      "Epoch 00010: val_loss did not improve\n",
      "Epoch 11/100\n",
      "2428/2428 [==============================] - 1s 268us/step - loss: 3.6759 - acc: 0.7636 - val_loss: 3.7558 - val_acc: 0.7644\n",
      "\n",
      "Epoch 00011: val_loss did not improve\n",
      "Epoch 12/100\n",
      "2428/2428 [==============================] - 1s 271us/step - loss: 3.6620 - acc: 0.7665 - val_loss: 3.7558 - val_acc: 0.7644\n",
      "\n",
      "Epoch 00012: val_loss did not improve\n",
      "Epoch 13/100\n",
      "2428/2428 [==============================] - 1s 214us/step - loss: 3.5449 - acc: 0.7747 - val_loss: 3.7558 - val_acc: 0.7644\n",
      "\n",
      "Epoch 00013: val_loss did not improve\n",
      "Epoch 14/100\n",
      "2428/2428 [==============================] - 0s 186us/step - loss: 3.6442 - acc: 0.7673 - val_loss: 3.7558 - val_acc: 0.7644\n",
      "\n",
      "Epoch 00014: val_loss did not improve\n",
      "Epoch 15/100\n",
      "2428/2428 [==============================] - 0s 169us/step - loss: 3.5366 - acc: 0.7751 - val_loss: 3.7558 - val_acc: 0.7644\n",
      "\n",
      "Epoch 00015: val_loss did not improve\n",
      "Epoch 16/100\n",
      "2428/2428 [==============================] - 0s 159us/step - loss: 3.5380 - acc: 0.7751 - val_loss: 3.7558 - val_acc: 0.7644\n",
      "\n",
      "Epoch 00016: val_loss did not improve\n",
      "Epoch 00016: early stopping\n"
     ]
    }
   ],
   "source": [
    "from keras.optimizers import Adam\n",
    "smilingmodel=customModel(x_train.shape[1:])\n",
    "opt=Adam(lr=0.00001, beta_1=0.9, beta_2=0.999, epsilon=None, decay=0.0, amsgrad=False)\n",
    "smilingmodel.compile(opt,loss='binary_crossentropy',metrics = [\"accuracy\"])\n",
    "monitor= EarlyStopping(monitor='val_loss',min_delta=1e-3,patience=15,verbose=1,mode='auto')\n",
    "checkpointer =ModelCheckpoint(filepath='smilingDLIBNN.hdf5',verbose=1,save_best_only=True)\n",
    "historyNN1 = smilingmodel.fit(x=x_train, y=y_train, validation_split=0.2, epochs=100, batch_size=32,callbacks=[monitor,checkpointer], verbose=1)"
   ]
  },
  {
   "cell_type": "code",
   "execution_count": null,
   "metadata": {},
   "outputs": [],
   "source": []
  },
  {
   "cell_type": "code",
   "execution_count": 81,
   "metadata": {},
   "outputs": [
    {
     "name": "stdout",
     "output_type": "stream",
     "text": [
      "1302/1302 [==============================] - 0s 61us/step\n",
      "\n",
      "Loss = 12.862289805199877\n",
      "Test Accuracy = 0.201996927894938\n"
     ]
    }
   ],
   "source": [
    "smilingmodel.load_weigths=('smilingDLIBNN.hdf5')\n",
    "preds =smilingmodel.evaluate(x =x_test, y =y_test)\n",
    "\n",
    "print()\n",
    "print (\"Loss = \" + str(preds[0]))\n",
    "print (\"Test Accuracy = \" + str(preds[1]))"
   ]
  },
  {
   "cell_type": "code",
   "execution_count": 76,
   "metadata": {},
   "outputs": [
    {
     "data": {
      "image/png": "[encoded data removed]",
      "text/plain": [
       "<matplotlib.figure.Figure at 0x2c239099160>"
      ]
     },
     "metadata": {},
     "output_type": "display_data"
    }
   ],
   "source": [
    "plt.plot(historyNN.history['loss'])\n",
    "plt.plot(historyNN.history['val_loss'])\n",
    "plt.title('Smiling Model loss NN lr=0.001')\n",
    "plt.ylabel('loss')\n",
    "plt.xlabel('epoch')\n",
    "plt.legend(['train', 'test'], loc='upper left')\n",
    "plt.show()"
   ]
  },
  {
   "cell_type": "code",
   "execution_count": null,
   "metadata": {},
   "outputs": [],
   "source": [
    "plt.plot(historyNN.history['acc'])\n",
    "plt.plot(historyNN.history['val_acc'])\n",
    "plt.title('Smiling Model loss NN lr=.001')\n",
    "plt.ylabel('acc')\n",
    "plt.xlabel('epoch')\n",
    "plt.legend(['train', 'test'], loc='upper left')\n",
    "plt.show()"
   ]
  },
  {
   "cell_type": "code",
   "execution_count": 85,
   "metadata": {},
   "outputs": [
    {
     "data": {
      "image/png": "[encoded data removed]",
      "text/plain": [
       "<matplotlib.figure.Figure at 0x2c2390ba780>"
      ]
     },
     "metadata": {},
     "output_type": "display_data"
    }
   ],
   "source": [
    "plt.plot(historyNN1.history['loss'])\n",
    "plt.plot(historyNN1.history['val_loss'])\n",
    "plt.title('Smiling Model loss NN lr=0.00001')\n",
    "plt.ylabel('loss')\n",
    "plt.xlabel('epoch')\n",
    "plt.legend(['train', 'test'], loc='upper left')\n",
    "plt.show()"
   ]
  },
  {
   "cell_type": "code",
   "execution_count": 88,
   "metadata": {},
   "outputs": [
    {
     "data": {
      "image/png": "[encoded data removed]",
      "text/plain": [
       "<matplotlib.figure.Figure at 0x2c23eef4a20>"
      ]
     },
     "metadata": {},
     "output_type": "display_data"
    }
   ],
   "source": [
    "plt.plot(historyNN1.history['acc'])\n",
    "plt.plot(historyNN1.history['val_acc'])\n",
    "plt.title('Smiling Model loss NN lr=0.00001')\n",
    "plt.ylabel('accuarcy')\n",
    "plt.xlabel('epoch')\n",
    "plt.legend(['train', 'test'], loc='upper left')\n",
    "plt.show()"
   ]
  },
  {
   "cell_type": "markdown",
   "metadata": {},
   "source": [
    "## Convolutional Neural Network"
   ]
  },
  {
   "cell_type": "code",
   "execution_count": 3,
   "metadata": {},
   "outputs": [],
   "source": [
    "def convModel(input_shape):\n",
    "    \n",
    "    \n",
    "    \n",
    "   \n",
    "    # Define the input placeholder as a tensor with shape input_shape. Think of this as your input image!\n",
    "    X_input = Input(input_shape)\n",
    "\n",
    "    # Zero-Padding: pads the border of X_input with zeroes\n",
    "    X = ZeroPadding2D((3, 3))(X_input)\n",
    "\n",
    "    # CONV -> BN -> RELU Block applied to X\n",
    "    X = Conv2D(32, (5, 5), strides = (1, 1), name = 'conv0')(X)\n",
    "    X = BatchNormalization(axis = 3, name = 'bn0')(X)\n",
    "    X = Activation('relu')(X)\n",
    "    #X = Dropout(.3)(X)\n",
    "    # MAXPOOL\n",
    "    X = MaxPooling2D((2, 2), name='max_pool_0')(X)\n",
    "    \n",
    "    \n",
    "    # CONV -> BN -> RELU Block applied to X\n",
    "    X = Conv2D(50, (2, 2), strides = (1, 1), name = 'conv1')(X)\n",
    "    X = BatchNormalization(axis = 3, name = 'bn1')(X)\n",
    "    X = Activation('relu')(X)\n",
    "    X = Dropout(.3)(X)\n",
    "    X = MaxPooling2D((3, 3), name='max_pool_1')(X)\n",
    "    \n",
    "    # FLATTEN X (means convert it to a vector) + FULLYCONNECTED\n",
    "    X = Flatten()(X)\n",
    "    X = Dense(256, activation='relu', name='fc0')(X)\n",
    "    X = Dropout(.3)(X)\n",
    "    X = Dense(128, activation='relu', name='fc1')(X)\n",
    "    X = Dropout(.3)(X)\n",
    "    X = Dense(1, activation='sigmoid', name='fc2')(X)\n",
    "    \n",
    "\n",
    "    # Create model. This creates your Keras model instance, you'll use this instance to train/test the model.\n",
    "    model = Model(inputs = X_input, outputs = X, name='cutomModel')\n",
    "\n",
    "    return model"
   ]
  },
  {
   "cell_type": "markdown",
   "metadata": {},
   "source": [
    "import images as rgb (64,64,3)"
   ]
  },
  {
   "cell_type": "code",
   "execution_count": 8,
   "metadata": {},
   "outputs": [],
   "source": [
    "x_testfiles,cx_train,cy_train,cx_test,cy_test=preprocessRGB('young',.2,(64,64))"
   ]
  },
  {
   "cell_type": "markdown",
   "metadata": {},
   "source": [
    "Creating model , compiling it , creating callbacks for early stopping and plotting"
   ]
  },
  {
   "cell_type": "code",
   "execution_count": 9,
   "metadata": {},
   "outputs": [],
   "source": [
    "cagemodel=convModel(cx_train.shape[1:])\n",
    "#opt=Adam(lr=0.001, beta_1=0.9, beta_2=0.999, epsilon=None, decay=0.0, amsgrad=False)\n",
    "cagemodel.compile(optimizer='adam',loss='binary_crossentropy',metrics = [\"accuracy\"])\n",
    "monitor= EarlyStopping(monitor='val_loss',min_delta=1e-3,patience=10,verbose=1,mode='auto')\n",
    "checkpointer =ModelCheckpoint(filepath='ageCNN1.hdf5',verbose=1,save_best_only=True)"
   ]
  },
  {
   "cell_type": "markdown",
   "metadata": {},
   "source": [
    "Training CNN 50 mins with validation split and batch sizr 16 until improvement stops"
   ]
  },
  {
   "cell_type": "code",
   "execution_count": 10,
   "metadata": {},
   "outputs": [
    {
     "name": "stdout",
     "output_type": "stream",
     "text": [
      "Train on 2828 samples, validate on 708 samples\n",
      "Epoch 1/100\n",
      "2828/2828 [==============================] - 128s 45ms/step - loss: 0.6846 - acc: 0.8136 - val_loss: 0.3931 - val_acc: 0.8037\n",
      "\n",
      "Epoch 00001: val_loss improved from inf to 0.39305, saving model to ageCNN1.hdf5\n",
      "Epoch 2/100\n",
      "2828/2828 [==============================] - 118s 42ms/step - loss: 0.3051 - acc: 0.8688 - val_loss: 0.2384 - val_acc: 0.9054\n",
      "\n",
      "Epoch 00002: val_loss improved from 0.39305 to 0.23844, saving model to ageCNN1.hdf5\n",
      "Epoch 3/100\n",
      "2828/2828 [==============================] - 117s 41ms/step - loss: 0.2740 - acc: 0.8876 - val_loss: 0.2798 - val_acc: 0.8814\n",
      "\n",
      "Epoch 00003: val_loss did not improve\n",
      "Epoch 4/100\n",
      "2828/2828 [==============================] - 114s 40ms/step - loss: 0.2593 - acc: 0.8861 - val_loss: 0.3380 - val_acc: 0.8545\n",
      "\n",
      "Epoch 00004: val_loss did not improve\n",
      "Epoch 5/100\n",
      "2828/2828 [==============================] - 114s 40ms/step - loss: 0.2419 - acc: 0.9024 - val_loss: 0.4538 - val_acc: 0.7811\n",
      "\n",
      "Epoch 00005: val_loss did not improve\n",
      "Epoch 6/100\n",
      "2828/2828 [==============================] - 119s 42ms/step - loss: 0.2400 - acc: 0.9021 - val_loss: 0.2346 - val_acc: 0.9110\n",
      "\n",
      "Epoch 00006: val_loss improved from 0.23844 to 0.23461, saving model to ageCNN1.hdf5\n",
      "Epoch 7/100\n",
      "2828/2828 [==============================] - 118s 42ms/step - loss: 0.2302 - acc: 0.9024 - val_loss: 0.3148 - val_acc: 0.8658\n",
      "\n",
      "Epoch 00007: val_loss did not improve\n",
      "Epoch 8/100\n",
      "2828/2828 [==============================] - 116s 41ms/step - loss: 0.2105 - acc: 0.9123 - val_loss: 0.2783 - val_acc: 0.8856\n",
      "\n",
      "Epoch 00008: val_loss did not improve\n",
      "Epoch 9/100\n",
      "2828/2828 [==============================] - 116s 41ms/step - loss: 0.2150 - acc: 0.9130 - val_loss: 0.2395 - val_acc: 0.8997\n",
      "\n",
      "Epoch 00009: val_loss did not improve\n",
      "Epoch 10/100\n",
      "2828/2828 [==============================] - 123s 44ms/step - loss: 0.2107 - acc: 0.9088 - val_loss: 0.3370 - val_acc: 0.8686\n",
      "\n",
      "Epoch 00010: val_loss did not improve\n",
      "Epoch 11/100\n",
      "2828/2828 [==============================] - 124s 44ms/step - loss: 0.2022 - acc: 0.9180 - val_loss: 0.2477 - val_acc: 0.9011\n",
      "\n",
      "Epoch 00011: val_loss did not improve\n",
      "Epoch 12/100\n",
      "2828/2828 [==============================] - 122s 43ms/step - loss: 0.1797 - acc: 0.9261 - val_loss: 0.2342 - val_acc: 0.8997\n",
      "\n",
      "Epoch 00012: val_loss improved from 0.23461 to 0.23419, saving model to ageCNN1.hdf5\n",
      "Epoch 13/100\n",
      "2828/2828 [==============================] - 124s 44ms/step - loss: 0.1717 - acc: 0.9296 - val_loss: 0.2827 - val_acc: 0.8715\n",
      "\n",
      "Epoch 00013: val_loss did not improve\n",
      "Epoch 14/100\n",
      "2828/2828 [==============================] - 119s 42ms/step - loss: 0.1840 - acc: 0.9183 - val_loss: 0.2177 - val_acc: 0.9096\n",
      "\n",
      "Epoch 00014: val_loss improved from 0.23419 to 0.21765, saving model to ageCNN1.hdf5\n",
      "Epoch 15/100\n",
      "2828/2828 [==============================] - 118s 42ms/step - loss: 0.1642 - acc: 0.9342 - val_loss: 0.2071 - val_acc: 0.9082\n",
      "\n",
      "Epoch 00015: val_loss improved from 0.21765 to 0.20710, saving model to ageCNN1.hdf5\n",
      "Epoch 16/100\n",
      "2828/2828 [==============================] - 118s 42ms/step - loss: 0.1445 - acc: 0.9417 - val_loss: 0.2273 - val_acc: 0.9040\n",
      "\n",
      "Epoch 00016: val_loss did not improve\n",
      "Epoch 17/100\n",
      "2828/2828 [==============================] - 119s 42ms/step - loss: 0.1455 - acc: 0.9381 - val_loss: 0.2260 - val_acc: 0.9138\n",
      "\n",
      "Epoch 00017: val_loss did not improve\n",
      "Epoch 18/100\n",
      "2828/2828 [==============================] - 118s 42ms/step - loss: 0.1351 - acc: 0.9420 - val_loss: 0.2505 - val_acc: 0.8941\n",
      "\n",
      "Epoch 00018: val_loss did not improve\n",
      "Epoch 19/100\n",
      "2828/2828 [==============================] - 115s 41ms/step - loss: 0.1270 - acc: 0.9512 - val_loss: 0.2914 - val_acc: 0.8955\n",
      "\n",
      "Epoch 00019: val_loss did not improve\n",
      "Epoch 20/100\n",
      "2828/2828 [==============================] - 114s 40ms/step - loss: 0.1313 - acc: 0.9466 - val_loss: 0.2590 - val_acc: 0.8856\n",
      "\n",
      "Epoch 00020: val_loss did not improve\n",
      "Epoch 21/100\n",
      "2828/2828 [==============================] - 121s 43ms/step - loss: 0.1243 - acc: 0.9526 - val_loss: 0.2949 - val_acc: 0.8955\n",
      "\n",
      "Epoch 00021: val_loss did not improve\n",
      "Epoch 22/100\n",
      "2828/2828 [==============================] - 122s 43ms/step - loss: 0.1048 - acc: 0.9576 - val_loss: 0.2352 - val_acc: 0.9011\n",
      "\n",
      "Epoch 00022: val_loss did not improve\n",
      "Epoch 23/100\n",
      "2828/2828 [==============================] - 115s 41ms/step - loss: 0.1111 - acc: 0.9562 - val_loss: 0.2442 - val_acc: 0.8955\n",
      "\n",
      "Epoch 00023: val_loss did not improve\n",
      "Epoch 24/100\n",
      "2828/2828 [==============================] - 114s 40ms/step - loss: 0.0991 - acc: 0.9579 - val_loss: 0.2374 - val_acc: 0.8997\n",
      "\n",
      "Epoch 00024: val_loss did not improve\n",
      "Epoch 25/100\n",
      "2828/2828 [==============================] - 119s 42ms/step - loss: 0.0885 - acc: 0.9636 - val_loss: 0.2541 - val_acc: 0.9025\n",
      "\n",
      "Epoch 00025: val_loss did not improve\n",
      "Epoch 00025: early stopping\n"
     ]
    }
   ],
   "source": [
    "historyCNN = cagemodel.fit(x=cx_train, y=cy_train, validation_split=0.2, epochs=100, batch_size=16,callbacks=[monitor,checkpointer], verbose=1)"
   ]
  },
  {
   "cell_type": "code",
   "execution_count": 11,
   "metadata": {},
   "outputs": [
    {
     "name": "stdout",
     "output_type": "stream",
     "text": [
      "884/884 [==============================] - 12s 13ms/step\n",
      "\n",
      "Loss = 0.27231386735428514\n",
      "Test Accuracy = 0.8959276012705462\n"
     ]
    }
   ],
   "source": [
    "cagemodel.load_weigths=('ageCNN1.hdf5')\n",
    "preds =cagemodel.evaluate(x =cx_test, y =cy_test)\n",
    "\n",
    "print()\n",
    "print (\"Loss = \" + str(preds[0]))\n",
    "print (\"Test Accuracy = \" + str(preds[1]))"
   ]
  },
  {
   "cell_type": "code",
   "execution_count": 12,
   "metadata": {},
   "outputs": [],
   "source": [
    "import pandas as pd\n",
    "yhat=cagemodel.predict(cx_test)\n",
    "df =pd.DataFrame(x_testfiles)\n",
    "df['pred']=(np.round(yhat,0))\n",
    "pred=np.array(df)\n",
    "np.savetxt('Task2.csv', pred, delimiter=',',header=str(preds[1]))"
   ]
  },
  {
   "cell_type": "code",
   "execution_count": null,
   "metadata": {},
   "outputs": [],
   "source": []
  },
  {
   "cell_type": "code",
   "execution_count": 13,
   "metadata": {},
   "outputs": [
    {
     "data": {
      "text/plain": [
       "(884,)"
      ]
     },
     "execution_count": 13,
     "metadata": {},
     "output_type": "execute_result"
    }
   ],
   "source": [
    "cy_test.shape"
   ]
  },
  {
   "cell_type": "code",
   "execution_count": 73,
   "metadata": {},
   "outputs": [
    {
     "name": "stdout",
     "output_type": "stream",
     "text": [
      "Saved model to disk\n"
     ]
    }
   ],
   "source": []
  },
  {
   "cell_type": "code",
   "execution_count": null,
   "metadata": {},
   "outputs": [],
   "source": []
  },
  {
   "cell_type": "code",
   "execution_count": 74,
   "metadata": {},
   "outputs": [],
   "source": [
    "  \n"
   ]
  },
  {
   "cell_type": "code",
   "execution_count": null,
   "metadata": {},
   "outputs": [],
   "source": []
  },
  {
   "cell_type": "code",
   "execution_count": 14,
   "metadata": {},
   "outputs": [
    {
     "data": {
      "image/png": "[encoded data removed]",
      "text/plain": [
       "<matplotlib.figure.Figure at 0x21aa9a2d438>"
      ]
     },
     "metadata": {},
     "output_type": "display_data"
    }
   ],
   "source": [
    "plt.plot(historyCNN.history['loss'])\n",
    "plt.plot(historyCNN.history['val_loss'])\n",
    "plt.title('Age Model loss CNN')\n",
    "plt.ylabel('loss')\n",
    "plt.xlabel('epoch')\n",
    "plt.legend(['train', 'test'], loc='upper left')\n",
    "plt.show()"
   ]
  },
  {
   "cell_type": "code",
   "execution_count": 15,
   "metadata": {},
   "outputs": [
    {
     "data": {
      "image/png": "[encoded data removed]",
      "text/plain": [
       "<matplotlib.figure.Figure at 0x21aa9a0ec18>"
      ]
     },
     "metadata": {},
     "output_type": "display_data"
    }
   ],
   "source": [
    "plt.plot(historyCNN.history['acc'])\n",
    "plt.plot(historyCNN.history['val_acc'])\n",
    "plt.title('Age Model accuracy CNN')\n",
    "plt.ylabel('accuracy')\n",
    "plt.xlabel('epoch')\n",
    "plt.legend(['train', 'test'], loc='upper left')\n",
    "plt.show()"
   ]
  },
  {
   "cell_type": "code",
   "execution_count": 16,
   "metadata": {},
   "outputs": [],
   "source": [
    "from sklearn.metrics import confusion_matrix\n",
    "conf= confusion_matrix(cy_test,np.round(yhat,0))"
   ]
  },
  {
   "cell_type": "code",
   "execution_count": 17,
   "metadata": {},
   "outputs": [
    {
     "data": {
      "text/plain": [
       "array([[130,  67],\n",
       "       [ 25, 662]], dtype=int64)"
      ]
     },
     "execution_count": 17,
     "metadata": {},
     "output_type": "execute_result"
    }
   ],
   "source": [
    "conf"
   ]
  },
  {
   "cell_type": "code",
   "execution_count": null,
   "metadata": {},
   "outputs": [],
   "source": []
  },
  {
   "cell_type": "code",
   "execution_count": null,
   "metadata": {},
   "outputs": [],
   "source": []
  },
  {
   "cell_type": "code",
   "execution_count": null,
   "metadata": {},
   "outputs": [],
   "source": []
  }
 ],
 "metadata": {
  "kernelspec": {
   "display_name": "Python 3",
   "language": "python",
   "name": "python3"
  },
  "language_info": {
   "codemirror_mode": {
    "name": "ipython",
    "version": 3
   },
   "file_extension": ".py",
   "mimetype": "text/x-python",
   "name": "python",
   "nbconvert_exporter": "python",
   "pygments_lexer": "ipython3",
   "version": "3.6.4"
  }
 },
 "nbformat": 4,
 "nbformat_minor": 2
}
