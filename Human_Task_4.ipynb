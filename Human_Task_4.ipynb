{
 "cells": [
  {
   "cell_type": "markdown",
   "metadata": {},
   "source": [
    "# Human Classification Task 2"
   ]
  },
  {
   "cell_type": "code",
   "execution_count": 6,
   "metadata": {},
   "outputs": [],
   "source": [
    "import matplotlib.pyplot as plt\n",
    "from matplotlib.pyplot import imshow\n",
    "from Preprocessing import preprocessRGB,facefeaturesdlib\n",
    "import numpy as np\n",
    "from keras import layers\n",
    "from keras.layers import Input, Dense, Activation, ZeroPadding2D, BatchNormalization, Flatten, Conv2D,Dropout\n",
    "from keras.layers import MaxPooling2D \n",
    "from keras.models import Model\n",
    "from keras.preprocessing import image\n",
    "import pandas as pd\n",
    "import matplotlib.pyplot as plt\n",
    "from matplotlib.pyplot import imshow\n",
    "import h5py\n",
    "from keras.models import model_from_json\n",
    "from keras.callbacks import ModelCheckpoint\n",
    "from keras.callbacks import EarlyStopping\n"
   ]
  },
  {
   "cell_type": "markdown",
   "metadata": {},
   "source": [
    "__________________________________________________"
   ]
  },
  {
   "cell_type": "markdown",
   "metadata": {},
   "source": [
    "___________________________\n"
   ]
  },
  {
   "cell_type": "markdown",
   "metadata": {},
   "source": [
    "_______________________________________"
   ]
  },
  {
   "cell_type": "markdown",
   "metadata": {},
   "source": [
    "## Convolutional Neural Network"
   ]
  },
  {
   "cell_type": "code",
   "execution_count": 7,
   "metadata": {},
   "outputs": [],
   "source": [
    "def convModel(input_shape):\n",
    "    \n",
    "    \n",
    "    \n",
    "   \n",
    "    # Define the input placeholder as a tensor with shape input_shape. Think of this as your input image!\n",
    "    X_input = Input(input_shape)\n",
    "\n",
    "    # Zero-Padding: pads the border of X_input with zeroes\n",
    "    X = ZeroPadding2D((3, 3))(X_input)\n",
    "\n",
    "    # CONV -> BN -> RELU Block applied to X\n",
    "    X = Conv2D(32, (5, 5), strides = (1, 1), name = 'conv0')(X)\n",
    "    X = BatchNormalization(axis = 3, name = 'bn0')(X)\n",
    "    X = Activation('relu')(X)\n",
    "    #X = Dropout(.3)(X)\n",
    "    # MAXPOOL\n",
    "    X = MaxPooling2D((2, 2), name='max_pool_0')(X)\n",
    "    \n",
    "    \n",
    "    # CONV -> BN -> RELU Block applied to X\n",
    "    X = Conv2D(50, (2, 2), strides = (1, 1), name = 'conv1')(X)\n",
    "    X = BatchNormalization(axis = 3, name = 'bn1')(X)\n",
    "    X = Activation('relu')(X)\n",
    "    X = Dropout(.3)(X)\n",
    "    X = MaxPooling2D((3, 3), name='max_pool_1')(X)\n",
    "    \n",
    "    # FLATTEN X (means convert it to a vector) + FULLYCONNECTED\n",
    "    X = Flatten()(X)\n",
    "    X = Dense(256, activation='relu', name='fc0')(X)\n",
    "    X = Dropout(.3)(X)\n",
    "    X = Dense(128, activation='relu', name='fc1')(X)\n",
    "    X = Dropout(.3)(X)\n",
    "    X = Dense(1, activation='sigmoid', name='fc2')(X)\n",
    "    \n",
    "\n",
    "    # Create model. This creates your Keras model instance, you'll use this instance to train/test the model.\n",
    "    model = Model(inputs = X_input, outputs = X, name='cutomModel')\n",
    "\n",
    "    return model"
   ]
  },
  {
   "cell_type": "markdown",
   "metadata": {},
   "source": [
    "import images as rgb (64,64,3)"
   ]
  },
  {
   "cell_type": "code",
   "execution_count": 8,
   "metadata": {},
   "outputs": [],
   "source": [
    "x_testfiles,cx_train,cy_train,cx_test,cy_test=preprocessRGB('human',.2,(64,64))"
   ]
  },
  {
   "cell_type": "markdown",
   "metadata": {},
   "source": [
    "Creating model , compiling it , creating callbacks for early stopping and plotting"
   ]
  },
  {
   "cell_type": "code",
   "execution_count": 9,
   "metadata": {},
   "outputs": [],
   "source": [
    "humanmodel=convModel(cx_train.shape[1:])\n",
    "#opt=Adam(lr=0.001, beta_1=0.9, beta_2=0.999, epsilon=None, decay=0.0, amsgrad=False)\n",
    "humanmodel.compile(optimizer='adam',loss='binary_crossentropy',metrics = [\"accuracy\"])\n",
    "monitor= EarlyStopping(monitor='val_loss',min_delta=1e-3,patience=5,verbose=1,mode='auto')\n",
    "checkpointer =ModelCheckpoint(filepath='humanCNN1.hdf5',verbose=1,save_best_only=True)"
   ]
  },
  {
   "cell_type": "markdown",
   "metadata": {},
   "source": [
    "Training CNN 50 mins with validation split and batch sizr 16 until improvement stops"
   ]
  },
  {
   "cell_type": "code",
   "execution_count": 10,
   "metadata": {},
   "outputs": [
    {
     "name": "stdout",
     "output_type": "stream",
     "text": [
      "Train on 2828 samples, validate on 708 samples\n",
      "Epoch 1/100\n",
      "2828/2828 [==============================] - 142s 50ms/step - loss: 0.1436 - acc: 0.9735 - val_loss: 3.0260 - val_acc: 0.7246\n",
      "\n",
      "Epoch 00001: val_loss improved from inf to 3.02596, saving model to humanCNN1.hdf5\n",
      "Epoch 2/100\n",
      "2828/2828 [==============================] - 136s 48ms/step - loss: 0.0158 - acc: 0.9979 - val_loss: 0.0177 - val_acc: 0.9958\n",
      "\n",
      "Epoch 00002: val_loss improved from 3.02596 to 0.01768, saving model to humanCNN1.hdf5\n",
      "Epoch 3/100\n",
      "2828/2828 [==============================] - 124s 44ms/step - loss: 0.0886 - acc: 0.9894 - val_loss: 1.1372 - val_acc: 0.8969\n",
      "\n",
      "Epoch 00003: val_loss did not improve\n",
      "Epoch 4/100\n",
      "2828/2828 [==============================] - 123s 44ms/step - loss: 0.0287 - acc: 0.9982 - val_loss: 0.0043 - val_acc: 0.9986\n",
      "\n",
      "Epoch 00004: val_loss improved from 0.01768 to 0.00432, saving model to humanCNN1.hdf5\n",
      "Epoch 5/100\n",
      "2828/2828 [==============================] - 148s 52ms/step - loss: 0.0636 - acc: 0.9940 - val_loss: 3.5406 - val_acc: 0.7189\n",
      "\n",
      "Epoch 00005: val_loss did not improve\n",
      "Epoch 6/100\n",
      "2828/2828 [==============================] - 137s 48ms/step - loss: 0.0366 - acc: 0.9968 - val_loss: 2.1237 - val_acc: 0.8037\n",
      "\n",
      "Epoch 00006: val_loss did not improve\n",
      "Epoch 7/100\n",
      "2828/2828 [==============================] - 130s 46ms/step - loss: 0.0059 - acc: 0.9996 - val_loss: 1.0867e-07 - val_acc: 1.0000\n",
      "\n",
      "Epoch 00007: val_loss improved from 0.00432 to 0.00000, saving model to humanCNN1.hdf5\n",
      "Epoch 8/100\n",
      "2828/2828 [==============================] - 135s 48ms/step - loss: 0.0057 - acc: 0.9996 - val_loss: 2.0519e-07 - val_acc: 1.0000\n",
      "\n",
      "Epoch 00008: val_loss did not improve\n",
      "Epoch 9/100\n",
      "2828/2828 [==============================] - 141s 50ms/step - loss: 0.0291 - acc: 0.9965 - val_loss: 0.7991 - val_acc: 0.9153\n",
      "\n",
      "Epoch 00009: val_loss did not improve\n",
      "Epoch 10/100\n",
      "2828/2828 [==============================] - 140s 50ms/step - loss: 0.0178 - acc: 0.9975 - val_loss: 0.0312 - val_acc: 0.9958\n",
      "\n",
      "Epoch 00010: val_loss did not improve\n",
      "Epoch 11/100\n",
      "2828/2828 [==============================] - 136s 48ms/step - loss: 0.0433 - acc: 0.9968 - val_loss: 5.2332e-07 - val_acc: 1.0000\n",
      "\n",
      "Epoch 00011: val_loss did not improve\n",
      "Epoch 12/100\n",
      "2828/2828 [==============================] - 139s 49ms/step - loss: 0.0056 - acc: 0.9996 - val_loss: 1.7868e-07 - val_acc: 1.0000\n",
      "\n",
      "Epoch 00012: val_loss did not improve\n",
      "Epoch 00012: early stopping\n"
     ]
    }
   ],
   "source": [
    "historyCNN = humanmodel.fit(x=cx_train, y=cy_train, validation_split=0.2, epochs=100, batch_size=16,callbacks=[monitor,checkpointer], verbose=1)"
   ]
  },
  {
   "cell_type": "code",
   "execution_count": 12,
   "metadata": {},
   "outputs": [],
   "source": [
    "humanmodel.load_weights('humanCNN1.hdf5')\n",
    "humanmodel.save('humanCNN.h5')"
   ]
  },
  {
   "cell_type": "code",
   "execution_count": 13,
   "metadata": {},
   "outputs": [
    {
     "name": "stdout",
     "output_type": "stream",
     "text": [
      "884/884 [==============================] - 12s 13ms/step\n",
      "\n",
      "Loss = 2.539095663215403e-07\n",
      "Test Accuracy = 1.0\n"
     ]
    }
   ],
   "source": [
    "from keras.models import load_model\n",
    "humanmodel= load_model('humanCNN.h5')\n",
    "preds =humanmodel.evaluate(x =cx_test, y =cy_test)\n",
    "\n",
    "print()\n",
    "print (\"Loss = \" + str(preds[0]))\n",
    "print (\"Test Accuracy = \" + str(preds[1]))"
   ]
  },
  {
   "cell_type": "code",
   "execution_count": 14,
   "metadata": {},
   "outputs": [],
   "source": [
    "import pandas as pd\n",
    "yhat=humanmodel.predict(cx_test)\n",
    "df =pd.DataFrame(x_testfiles)\n",
    "df['pred']=(np.round(yhat,0))\n",
    "pred=np.array(df)\n",
    "np.savetxt('Task4.csv', pred, delimiter=',',header=str(preds[1]))"
   ]
  },
  {
   "cell_type": "code",
   "execution_count": 16,
   "metadata": {},
   "outputs": [
    {
     "data": {
      "image/png": "[encoded data removed]",
      "text/plain": [
       "<matplotlib.figure.Figure at 0x1349def94e0>"
      ]
     },
     "metadata": {},
     "output_type": "display_data"
    }
   ],
   "source": [
    "plt.plot(historyCNN.history['loss'])\n",
    "plt.plot(historyCNN.history['val_loss'])\n",
    "plt.title('human Model loss CNN')\n",
    "plt.ylabel('loss')\n",
    "plt.xlabel('epoch')\n",
    "plt.legend(['train', 'test'], loc='upper right')\n",
    "plt.show()"
   ]
  },
  {
   "cell_type": "code",
   "execution_count": 17,
   "metadata": {},
   "outputs": [
    {
     "data": {
      "image/png": "[encoded data removed]",
      "text/plain": [
       "<matplotlib.figure.Figure at 0x1349e0b6470>"
      ]
     },
     "metadata": {},
     "output_type": "display_data"
    }
   ],
   "source": [
    "plt.plot(historyCNN.history['acc'])\n",
    "plt.plot(historyCNN.history['val_acc'])\n",
    "plt.title('human Model accuracy CNN')\n",
    "plt.ylabel('accuracy')\n",
    "plt.xlabel('epoch')\n",
    "plt.legend(['train', 'test'], loc='upper left')\n",
    "plt.show()"
   ]
  },
  {
   "cell_type": "code",
   "execution_count": 18,
   "metadata": {},
   "outputs": [],
   "source": [
    "from sklearn.metrics import confusion_matrix\n",
    "conf= confusion_matrix(cy_test,np.round(yhat,0))"
   ]
  },
  {
   "cell_type": "code",
   "execution_count": 19,
   "metadata": {},
   "outputs": [
    {
     "data": {
      "text/plain": [
       "array([[476,   0],\n",
       "       [  0, 408]], dtype=int64)"
      ]
     },
     "execution_count": 19,
     "metadata": {},
     "output_type": "execute_result"
    }
   ],
   "source": [
    "conf"
   ]
  },
  {
   "cell_type": "code",
   "execution_count": 21,
   "metadata": {},
   "outputs": [],
   "source": [
    "i=0\n",
    "NewTest=np.zeros((100,64,64,3))\n",
    "for x in range(1,101):\n",
    "    temp= image.load_img('testing_dataset/'+str(x)+'.png',target_size=(64,64))\n",
    "    NewTest[i,:,:,:]=image.img_to_array(temp)\n",
    "    i=i+1\n",
    "NewTest=NewTest/255\n",
    "\n",
    "yhat=humanmodel.predict(NewTest)\n",
    "yhat=np.round(yhat,0)\n",
    "df1 =pd.DataFrame(yhat)\n",
    "df = pd.DataFrame(list(range(1,101)))\n",
    "df['pred']=list(df1.max(axis=1))\n",
    "pred=np.array(df)\n",
    "np.savetxt('Testing_dataset_Task4.csv', pred, delimiter=',',header=str(preds[1]))"
   ]
  },
  {
   "cell_type": "code",
   "execution_count": null,
   "metadata": {},
   "outputs": [],
   "source": []
  },
  {
   "cell_type": "code",
   "execution_count": null,
   "metadata": {},
   "outputs": [],
   "source": []
  }
 ],
 "metadata": {
  "kernelspec": {
   "display_name": "Python 3",
   "language": "python",
   "name": "python3"
  },
  "language_info": {
   "codemirror_mode": {
    "name": "ipython",
    "version": 3
   },
   "file_extension": ".py",
   "mimetype": "text/x-python",
   "name": "python",
   "nbconvert_exporter": "python",
   "pygments_lexer": "ipython3",
   "version": "3.6.4"
  }
 },
 "nbformat": 4,
 "nbformat_minor": 2
}
