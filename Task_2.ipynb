{
 "cells": [
  {
   "cell_type": "code",
   "execution_count": 27,
   "metadata": {},
   "outputs": [],
   "source": [
    "import numpy as np\n",
    "from keras import layers\n",
    "from keras.layers import Input, Dense, Activation, ZeroPadding2D, BatchNormalization, Flatten, Conv2D\n",
    "from keras.layers import AveragePooling2D, MaxPooling2D, Dropout, GlobalMaxPooling2D, GlobalAveragePooling2D\n",
    "from keras.models import Model\n",
    "from keras.preprocessing import image\n",
    "from keras.utils import layer_utils\n",
    "from keras.utils.data_utils import get_file\n",
    "from keras.applications.imagenet_utils import preprocess_input\n",
    "import pydot\n",
    "from IPython.display import SVG\n",
    "from keras.utils.vis_utils import model_to_dot\n",
    "from keras.utils import plot_model\n",
    "#from kt_utils import *\n",
    "import pandas as pd\n",
    "\n",
    "import keras.backend as K\n",
    "K.set_image_data_format('channels_last')\n",
    "import matplotlib.pyplot as plt\n",
    "from matplotlib.pyplot import imshow\n",
    "\n",
    "%matplotlib inline"
   ]
  },
  {
   "cell_type": "code",
   "execution_count": 28,
   "metadata": {},
   "outputs": [],
   "source": [
    "noise = pd.read_csv('noise_classified.csv',header=None)\n",
    "labels_noise= pd.read_csv(\"attribute_list.csv\",skiprows=1)"
   ]
  },
  {
   "cell_type": "code",
   "execution_count": 29,
   "metadata": {},
   "outputs": [],
   "source": [
    "labels_noise['noise']=noise.loc[:,1]\n",
    "\n"
   ]
  },
  {
   "cell_type": "code",
   "execution_count": 30,
   "metadata": {},
   "outputs": [],
   "source": [
    "labels= labels_noise[labels_noise['noise']==1]\n"
   ]
  },
  {
   "cell_type": "code",
   "execution_count": 31,
   "metadata": {},
   "outputs": [],
   "source": [
    "train_test_data_smiling=labels.loc[:,['file_name','smiling']]"
   ]
  },
  {
   "cell_type": "code",
   "execution_count": 32,
   "metadata": {},
   "outputs": [],
   "source": [
    "train_test_data_smiling['smiling']= train_test_data_smiling['smiling'].apply(lambda x: 0 if x < 1  else 1)"
   ]
  },
  {
   "cell_type": "code",
   "execution_count": 7,
   "metadata": {},
   "outputs": [],
   "source": []
  },
  {
   "cell_type": "code",
   "execution_count": 33,
   "metadata": {},
   "outputs": [],
   "source": [
    "from sklearn.model_selection import train_test_split\n",
    "\n",
    "train, test = train_test_split(train_test_data_smiling, test_size=0.4)\n",
    "y_train= np.array(train['smiling'])\n",
    "y_test=np.array(test['smiling'])\n",
    "train.shape[0]\n",
    "picture_shape=(64,64,3)"
   ]
  },
  {
   "cell_type": "code",
   "execution_count": 34,
   "metadata": {},
   "outputs": [],
   "source": [
    "i=0\n",
    "x_train=np.zeros((len(train['smiling']),64,64,3))\n",
    "for x in list(train['file_name']):\n",
    "    temp= image.load_img('./dataset/'+str(x)+'.png',target_size=(64, 64))\n",
    "    x_train[i,:,:,:]=image.img_to_array(temp)\n",
    "    i=i+1\n",
    "i=0\n",
    "x_test=np.zeros((len(test['smiling']),64,64,3))\n",
    "for x in list(test['file_name']):\n",
    "    temp= image.load_img('./dataset/'+str(x)+'.png',target_size=(64, 64))\n",
    "    x_test[i,:,:,:]=image.img_to_array(temp)\n",
    "    i=i+1\n",
    "x_train,x_test = x_train/255,x_test/255"
   ]
  },
  {
   "cell_type": "code",
   "execution_count": 13,
   "metadata": {},
   "outputs": [],
   "source": []
  },
  {
   "cell_type": "code",
   "execution_count": 35,
   "metadata": {},
   "outputs": [
    {
     "data": {
      "text/plain": [
       "<matplotlib.image.AxesImage at 0x1891316cef0>"
      ]
     },
     "execution_count": 35,
     "metadata": {},
     "output_type": "execute_result"
    },
    {
     "data": {
      "image/png": "[encoded data removed]",
      "text/plain": [
       "<matplotlib.figure.Figure at 0x1891314ddd8>"
      ]
     },
     "metadata": {},
     "output_type": "display_data"
    }
   ],
   "source": [
    "plt.imshow(x_test[9,:,:,:])"
   ]
  },
  {
   "cell_type": "code",
   "execution_count": 39,
   "metadata": {},
   "outputs": [],
   "source": [
    "def HappyModel(input_shape):\n",
    "    \"\"\"\n",
    "    Implementation of the HappyModel.\n",
    "    \n",
    "    Arguments:\n",
    "    input_shape -- shape of the images of the dataset\n",
    "\n",
    "    Returns:\n",
    "    model -- a Model() instance in Keras\n",
    "    \"\"\"\n",
    "    \n",
    "    \n",
    "    # Define the input placeholder as a tensor with shape input_shape. Think of this as your input image!\n",
    "    X_input = Input(input_shape)\n",
    "\n",
    "    # Zero-Padding: pads the border of X_input with zeroes\n",
    "    X = ZeroPadding2D((3, 3))(X_input)\n",
    "\n",
    "    # CONV -> BN -> RELU Block applied to X\n",
    "    X = Conv2D(32, (7, 7), strides = (2, 2), name = 'conv0')(X)\n",
    "    X = BatchNormalization(axis = 3, name = 'bn0')(X)\n",
    "    X = Dropout(.2)(X)\n",
    "    X = Activation('relu')(X)\n",
    "    \n",
    "\n",
    "    # MAXPOOL\n",
    "    X = MaxPooling2D((2, 2), name='max_pool_1')(X)\n",
    "    # CONV -> BN -> RELU Block applied to X\n",
    "    X = Conv2D(32, (7, 7), strides = (, 1), name = 'conv1')(X)\n",
    "    X = BatchNormalization(axis = 3, name = 'bn1')(X)\n",
    "    X = Activation('relu')(X)\n",
    "    X = Dropout(.2)(X)\n",
    "    \n",
    "    X = MaxPooling2D((2, 2), name='max_pool_2')(X)\n",
    "\n",
    "    # FLATTEN X (means convert it to a vector) + FULLYCONNECTED\n",
    "    X = Flatten()(X)\n",
    "    X = Dense(16, activation='relu', name='fc0')(X)\n",
    "    X = Dense(8, activation='relu', name='fc1')(X)\n",
    "    X = Dense(1, activation='sigmoid', name='fc2')(X)\n",
    "    \n",
    "\n",
    "    # Create model. This creates your Keras model instance, you'll use this instance to train/test the model.\n",
    "    model = Model(inputs = X_input, outputs = X, name='HappyModel')\n",
    "\n",
    "    return model"
   ]
  },
  {
   "cell_type": "code",
   "execution_count": 40,
   "metadata": {},
   "outputs": [
    {
     "name": "stdout",
     "output_type": "stream",
     "text": [
      "Epoch 1/5\n",
      "2652/2652 [==============================] - 95s 36ms/step - loss: 0.3566 - acc: 0.7775\n",
      "Epoch 2/5\n",
      "2652/2652 [==============================] - 94s 36ms/step - loss: 0.3187 - acc: 0.7934\n",
      "Epoch 3/5\n",
      "2652/2652 [==============================] - 92s 35ms/step - loss: 0.3146 - acc: 0.7934\n",
      "Epoch 4/5\n",
      "2652/2652 [==============================] - 99s 37ms/step - loss: 0.2931 - acc: 0.7934\n",
      "Epoch 5/5\n",
      "2652/2652 [==============================] - 93s 35ms/step - loss: 0.2333 - acc: 0.8842\n"
     ]
    },
    {
     "data": {
      "text/plain": [
       "<keras.callbacks.History at 0x18914de9cc0>"
      ]
     },
     "execution_count": 40,
     "metadata": {},
     "output_type": "execute_result"
    }
   ],
   "source": [
    "\n",
    "smilingmodel=HappyModel(x_train.shape[1:])\n",
    "smilingmodel.compile(optimizer='adam',loss='binary_crossentropy',metrics = [\"accuracy\"])\n",
    "smilingmodel.fit(x=x_train, y=y_train.T,epochs=5,batch_size=64)"
   ]
  },
  {
   "cell_type": "code",
   "execution_count": 41,
   "metadata": {},
   "outputs": [
    {
     "name": "stdout",
     "output_type": "stream",
     "text": [
      "Epoch 1/5\n",
      "2652/2652 [==============================] - 105s 40ms/step - loss: 0.1997 - acc: 0.9050\n",
      "Epoch 2/5\n",
      "2652/2652 [==============================] - 110s 41ms/step - loss: 0.1583 - acc: 0.9257\n",
      "Epoch 3/5\n",
      "2652/2652 [==============================] - 102s 38ms/step - loss: 0.1262 - acc: 0.9416\n",
      "Epoch 4/5\n",
      "2652/2652 [==============================] - 114s 43ms/step - loss: 0.1152 - acc: 0.9525\n",
      "Epoch 5/5\n",
      "2652/2652 [==============================] - 96s 36ms/step - loss: 0.0946 - acc: 0.9627\n"
     ]
    },
    {
     "data": {
      "text/plain": [
       "<keras.callbacks.History at 0x18915463a90>"
      ]
     },
     "execution_count": 41,
     "metadata": {},
     "output_type": "execute_result"
    }
   ],
   "source": [
    "smilingmodel.fit(x=x_train, y=y_train.T,epochs=5,batch_size=16)"
   ]
  },
  {
   "cell_type": "code",
   "execution_count": 44,
   "metadata": {},
   "outputs": [
    {
     "name": "stdout",
     "output_type": "stream",
     "text": [
      "Epoch 1/3\n",
      "2652/2652 [==============================] - 93s 35ms/step - loss: 0.1288 - acc: 0.9465\n",
      "Epoch 2/3\n",
      "2652/2652 [==============================] - 98s 37ms/step - loss: 0.1007 - acc: 0.9612\n",
      "Epoch 3/3\n",
      "2652/2652 [==============================] - 109s 41ms/step - loss: 0.0771 - acc: 0.9713\n"
     ]
    },
    {
     "data": {
      "text/plain": [
       "<keras.callbacks.History at 0x18916edf198>"
      ]
     },
     "execution_count": 44,
     "metadata": {},
     "output_type": "execute_result"
    }
   ],
   "source": [
    "smilingmodel.fit(x=x_train, y=y_train.T,epochs=3,batch_size=8)"
   ]
  },
  {
   "cell_type": "code",
   "execution_count": 45,
   "metadata": {},
   "outputs": [
    {
     "name": "stdout",
     "output_type": "stream",
     "text": [
      "1768/1768 [==============================] - 23s 13ms/step\n",
      "\n",
      "Loss = 0.8377006227883818\n",
      "Test Accuracy = 0.8529411764705882\n"
     ]
    }
   ],
   "source": [
    "preds = smilingmodel.evaluate(x =x_test, y =y_test.T)\n",
    "### END CODE HERE ###\n",
    "print()\n",
    "print (\"Loss = \" + str(preds[0]))\n",
    "print (\"Test Accuracy = \" + str(preds[1]))"
   ]
  },
  {
   "cell_type": "code",
   "execution_count": 46,
   "metadata": {},
   "outputs": [
    {
     "name": "stdout",
     "output_type": "stream",
     "text": [
      "1768/1768 [==============================] - 23s 13ms/step\n",
      "\n",
      "Loss = 0.8377006227883818\n",
      "Test Accuracy = 0.8529411764705882\n"
     ]
    }
   ],
   "source": [
    "preds = smilingmodel.evaluate(x =x_test, y =y_test.T)\n",
    "### END CODE HERE ###\n",
    "print()\n",
    "print (\"Loss = \" + str(preds[0]))\n",
    "print (\"Test Accuracy = \" + str(preds[1]))"
   ]
  },
  {
   "cell_type": "code",
   "execution_count": null,
   "metadata": {},
   "outputs": [],
   "source": []
  }
 ],
 "metadata": {
  "kernelspec": {
   "display_name": "Python 3",
   "language": "python",
   "name": "python3"
  },
  "language_info": {
   "codemirror_mode": {
    "name": "ipython",
    "version": 3
   },
   "file_extension": ".py",
   "mimetype": "text/x-python",
   "name": "python",
   "nbconvert_exporter": "python",
   "pygments_lexer": "ipython3",
   "version": "3.6.4"
  }
 },
 "nbformat": 4,
 "nbformat_minor": 2
}
