{
 "cells": [
  {
   "cell_type": "code",
   "execution_count": 6,
   "metadata": {},
   "outputs": [],
   "source": [
    "import numpy as np\n",
    "from keras import layers\n",
    "from keras.layers import Input, Dense, Activation, ZeroPadding2D, BatchNormalization, Flatten, Conv2D,Dropout,Convolution2D\n",
    "from keras.layers import MaxPooling2D\n",
    "from keras.models import Model\n",
    "from keras.preprocessing import image\n",
    "import pandas as pd\n",
    "import matplotlib.pyplot as plt\n",
    "from matplotlib.pyplot import imshow\n",
    "import h5py\n",
    "from keras.models import model_from_json\n",
    "from keras.callbacks import EarlyStopping\n",
    "from keras.callbacks import ModelCheckpoint\n",
    "from keras.models import Sequential\n",
    "from Preprocessing import img_dir"
   ]
  },
  {
   "cell_type": "markdown",
   "metadata": {},
   "source": [
    "Importing files making sure its categorical"
   ]
  },
  {
   "cell_type": "code",
   "execution_count": 7,
   "metadata": {},
   "outputs": [],
   "source": [
    "\n",
    "noise = pd.read_csv('noise_classified.csv',header=None)\n",
    "labels_noise= pd.read_csv(\"attribute_list.csv\",skiprows=1)\n",
    "labels_noise['noise']=noise.loc[:,1]\n",
    "labels= labels_noise[labels_noise['noise']==1]\n",
    "attribute='hair_color'\n",
    "itrain_test_data=labels.loc[:,['file_name',attribute]]\n",
    "#train_test_data.loc[:,['file_name',attribute]]\n",
    "#train_test_data[attribute]= train_test_data[attribute].apply(lambda x: 0 if x < 1  else 1)\n",
    "train_test_data= itrain_test_data[itrain_test_data[attribute]>0]"
   ]
  },
  {
   "cell_type": "code",
   "execution_count": 8,
   "metadata": {},
   "outputs": [
    {
     "data": {
      "text/html": [
       "<div>\n",
       "<style scoped>\n",
       "    .dataframe tbody tr th:only-of-type {\n",
       "        vertical-align: middle;\n",
       "    }\n",
       "\n",
       "    .dataframe tbody tr th {\n",
       "        vertical-align: top;\n",
       "    }\n",
       "\n",
       "    .dataframe thead th {\n",
       "        text-align: right;\n",
       "    }\n",
       "</style>\n",
       "<table border=\"1\" class=\"dataframe\">\n",
       "  <thead>\n",
       "    <tr style=\"text-align: right;\">\n",
       "      <th></th>\n",
       "      <th>file_name</th>\n",
       "      <th>hair_color</th>\n",
       "    </tr>\n",
       "  </thead>\n",
       "  <tbody>\n",
       "    <tr>\n",
       "      <th>0</th>\n",
       "      <td>1</td>\n",
       "      <td>1</td>\n",
       "    </tr>\n",
       "    <tr>\n",
       "      <th>1</th>\n",
       "      <td>2</td>\n",
       "      <td>4</td>\n",
       "    </tr>\n",
       "    <tr>\n",
       "      <th>2</th>\n",
       "      <td>3</td>\n",
       "      <td>5</td>\n",
       "    </tr>\n",
       "    <tr>\n",
       "      <th>6</th>\n",
       "      <td>7</td>\n",
       "      <td>2</td>\n",
       "    </tr>\n",
       "    <tr>\n",
       "      <th>7</th>\n",
       "      <td>8</td>\n",
       "      <td>3</td>\n",
       "    </tr>\n",
       "  </tbody>\n",
       "</table>\n",
       "</div>"
      ],
      "text/plain": [
       "   file_name  hair_color\n",
       "0          1           1\n",
       "1          2           4\n",
       "2          3           5\n",
       "6          7           2\n",
       "7          8           3"
      ]
     },
     "execution_count": 8,
     "metadata": {},
     "output_type": "execute_result"
    }
   ],
   "source": [
    "s = pd.Series(list(train_test_data[attribute]))\n",
    "s1=pd.get_dummies(s)\n",
    "s1.shape\n",
    "train_test_data.head()\n",
    "\n"
   ]
  },
  {
   "cell_type": "markdown",
   "metadata": {},
   "source": [
    "Importing Images Normalizing them and splitting into training and test set"
   ]
  },
  {
   "cell_type": "code",
   "execution_count": 10,
   "metadata": {},
   "outputs": [],
   "source": [
    "from sklearn.model_selection import train_test_split\n",
    "\n",
    "train, test = train_test_split(train_test_data, test_size=0.2)\n",
    "\n",
    "picture_shape=(64,64)\n",
    "\n",
    "y_train= pd.Series(list(train[attribute]))\n",
    "y_train= pd.get_dummies(y_train)\n",
    "y_test=pd.Series(list(test[attribute]))\n",
    "y_test= pd.get_dummies(y_test)\n",
    "y_train=np.array(y_train)\n",
    "y_test=np.array(y_test)\n",
    "\n",
    "i=0\n",
    "x_train=np.zeros((len(train[attribute]),picture_shape[0],picture_shape[1],3))\n",
    "for x in list(train['file_name']):\n",
    "    temp= image.load_img(img_dir+str(x)+'.png',target_size=(picture_shape))\n",
    "    x_train[i,:,:,:]=image.img_to_array(temp)\n",
    "    i=i+1\n",
    "i=0\n",
    "x_test=np.zeros((len(test[attribute]),picture_shape[0],picture_shape[1],3))\n",
    "for x in list(test['file_name']):\n",
    "    temp= image.load_img(img_dir+str(x)+'.png',target_size=(picture_shape))\n",
    "    x_test[i,:,:,:]=image.img_to_array(temp)\n",
    "    i=i+1\n",
    "x_train,x_test = x_train/255.0,x_test/255.0"
   ]
  },
  {
   "cell_type": "markdown",
   "metadata": {},
   "source": [
    "## Creating Model"
   ]
  },
  {
   "cell_type": "code",
   "execution_count": 28,
   "metadata": {},
   "outputs": [],
   "source": [
    "def customModel(input_shape):\n",
    "    \n",
    "    \n",
    "    \n",
    "   # Define the input placeholder as a tensor with shape input_shape. Think of this as your input image!\n",
    "    X_input = Input(input_shape)\n",
    "\n",
    "    # Zero-Padding: pads the border of X_input with zeroes\n",
    "    X = ZeroPadding2D((3, 3))(X_input)\n",
    "\n",
    "    # CONV -> BN -> RELU Block applied to X\n",
    "    X = Conv2D(32, (5, 5), strides = (1, 1), name = 'conv0')(X)\n",
    "    X = BatchNormalization(axis = 3, name = 'bn0')(X)\n",
    "    X = Activation('relu')(X)\n",
    "    #X = Dropout(.3)(X)\n",
    "    # MAXPOOL\n",
    "    X = MaxPooling2D((2, 2), name='max_pool_0')(X)\n",
    "    \n",
    "    \n",
    "    # CONV -> BN -> RELU Block applied to X\n",
    "    X = Conv2D(50, (2, 2), strides = (1, 1), name = 'conv1')(X)\n",
    "    X = BatchNormalization(axis = 3, name = 'bn1')(X)\n",
    "    X = Activation('relu')(X)\n",
    "    X = Dropout(.3)(X)\n",
    "    X = MaxPooling2D((3, 3), name='max_pool_1')(X)\n",
    "    \n",
    "    # FLATTEN X (means convert it to a vector) + FULLYCONNECTED\n",
    "    X = Flatten()(X)\n",
    "    X = Dense(256, activation='relu', name='fc0')(X)\n",
    "    X = Dropout(.3)(X)\n",
    "    X = Dense(128, activation='relu', name='fc1')(X)\n",
    "    X = Dropout(.3)(X)\n",
    "    X = Dense(5, activation='softmax', name='fc2')(X)\n",
    "    \n",
    "\n",
    "    # Create model. This creates your Keras model instance, you'll use this instance to train/test the model.\n",
    "    model = Model(inputs = X_input, outputs = X, name='cutomModel')\n",
    "\n",
    "    return model"
   ]
  },
  {
   "cell_type": "markdown",
   "metadata": {},
   "source": [
    "## Creating custom Callbacks and training Model"
   ]
  },
  {
   "cell_type": "code",
   "execution_count": 29,
   "metadata": {},
   "outputs": [
    {
     "name": "stdout",
     "output_type": "stream",
     "text": [
      "Train on 2348 samples, validate on 588 samples\n",
      "Epoch 1/40\n",
      "2348/2348 [==============================] - 114s 48ms/step - loss: 2.2679 - acc: 0.5396 - val_loss: 1.4685 - val_acc: 0.3963\n",
      "\n",
      "Epoch 00001: val_loss improved from inf to 1.46849, saving model to hairclassification_best_weights.hdf5\n",
      "Epoch 2/40\n",
      "2348/2348 [==============================] - 113s 48ms/step - loss: 0.6605 - acc: 0.7479 - val_loss: 0.6917 - val_acc: 0.7585\n",
      "\n",
      "Epoch 00002: val_loss improved from 1.46849 to 0.69175, saving model to hairclassification_best_weights.hdf5\n",
      "Epoch 3/40\n",
      "2348/2348 [==============================] - 127s 54ms/step - loss: 0.5374 - acc: 0.7947 - val_loss: 0.5640 - val_acc: 0.7891\n",
      "\n",
      "Epoch 00003: val_loss improved from 0.69175 to 0.56404, saving model to hairclassification_best_weights.hdf5\n",
      "Epoch 4/40\n",
      "2348/2348 [==============================] - 122s 52ms/step - loss: 0.4092 - acc: 0.8450 - val_loss: 0.4938 - val_acc: 0.7891\n",
      "\n",
      "Epoch 00004: val_loss improved from 0.56404 to 0.49377, saving model to hairclassification_best_weights.hdf5\n",
      "Epoch 5/40\n",
      "2348/2348 [==============================] - 108s 46ms/step - loss: 0.3990 - acc: 0.8399 - val_loss: 0.4167 - val_acc: 0.8639\n",
      "\n",
      "Epoch 00005: val_loss improved from 0.49377 to 0.41675, saving model to hairclassification_best_weights.hdf5\n",
      "Epoch 6/40\n",
      "2348/2348 [==============================] - 110s 47ms/step - loss: 0.3394 - acc: 0.8680 - val_loss: 0.5183 - val_acc: 0.8146\n",
      "\n",
      "Epoch 00006: val_loss did not improve\n",
      "Epoch 7/40\n",
      "2348/2348 [==============================] - 119s 51ms/step - loss: 0.3404 - acc: 0.8761 - val_loss: 0.4848 - val_acc: 0.8044\n",
      "\n",
      "Epoch 00007: val_loss did not improve\n",
      "Epoch 8/40\n",
      "2348/2348 [==============================] - 127s 54ms/step - loss: 0.2932 - acc: 0.8893 - val_loss: 0.3617 - val_acc: 0.8520\n",
      "\n",
      "Epoch 00008: val_loss improved from 0.41675 to 0.36173, saving model to hairclassification_best_weights.hdf5\n",
      "Epoch 9/40\n",
      "2348/2348 [==============================] - 116s 49ms/step - loss: 0.2528 - acc: 0.8952 - val_loss: 0.3422 - val_acc: 0.8605\n",
      "\n",
      "Epoch 00009: val_loss improved from 0.36173 to 0.34223, saving model to hairclassification_best_weights.hdf5\n",
      "Epoch 10/40\n",
      "2348/2348 [==============================] - 127s 54ms/step - loss: 0.2712 - acc: 0.8969 - val_loss: 0.2899 - val_acc: 0.8997\n",
      "\n",
      "Epoch 00010: val_loss improved from 0.34223 to 0.28988, saving model to hairclassification_best_weights.hdf5\n",
      "Epoch 11/40\n",
      "2348/2348 [==============================] - 120s 51ms/step - loss: 0.2680 - acc: 0.9016 - val_loss: 0.3557 - val_acc: 0.8520\n",
      "\n",
      "Epoch 00011: val_loss did not improve\n",
      "Epoch 12/40\n",
      "2348/2348 [==============================] - 113s 48ms/step - loss: 0.2541 - acc: 0.9089 - val_loss: 0.4079 - val_acc: 0.8265\n",
      "\n",
      "Epoch 00012: val_loss did not improve\n",
      "Epoch 13/40\n",
      "2348/2348 [==============================] - 110s 47ms/step - loss: 0.2209 - acc: 0.9182 - val_loss: 0.3798 - val_acc: 0.8384\n",
      "\n",
      "Epoch 00013: val_loss did not improve\n",
      "Epoch 14/40\n",
      "2348/2348 [==============================] - 110s 47ms/step - loss: 0.2018 - acc: 0.9272 - val_loss: 0.3256 - val_acc: 0.8776\n",
      "\n",
      "Epoch 00014: val_loss did not improve\n",
      "Epoch 15/40\n",
      "2348/2348 [==============================] - 107s 45ms/step - loss: 0.1853 - acc: 0.9344 - val_loss: 0.4130 - val_acc: 0.8707\n",
      "\n",
      "Epoch 00015: val_loss did not improve\n",
      "Epoch 00015: early stopping\n"
     ]
    }
   ],
   "source": [
    "agemodel=customModel(x_train.shape[1:])\n",
    "agemodel.compile(optimizer='Adam',loss='categorical_crossentropy',metrics = [\"accuracy\"])\n",
    "monitor= EarlyStopping(monitor='val_acc',min_delta=1e-3,patience=5,verbose=1,mode='auto')\n",
    "checkpointer =ModelCheckpoint(filepath='hairclassification_best_weights.hdf5',verbose=1,save_best_only=True)\n",
    "#agemodel.fit(x=x_train, y=y_train.T,epochs=15,batch_size=32) # to see how long it will take\n",
    "history = agemodel.fit(x=x_train, y=y_train, validation_split=0.2, epochs=40, batch_size=16,callbacks=[monitor,checkpointer], verbose=1)"
   ]
  },
  {
   "cell_type": "markdown",
   "metadata": {},
   "source": [
    "Loading Best weights and Saving model"
   ]
  },
  {
   "cell_type": "code",
   "execution_count": 143,
   "metadata": {},
   "outputs": [],
   "source": [
    "agemodel.load_weights('hairclassification_best_weights.hdf5')\n",
    "agemodel.save('hairclassification.h5')"
   ]
  },
  {
   "cell_type": "markdown",
   "metadata": {},
   "source": [
    "Evaluating"
   ]
  },
  {
   "cell_type": "code",
   "execution_count": 144,
   "metadata": {},
   "outputs": [
    {
     "name": "stdout",
     "output_type": "stream",
     "text": [
      "735/735 [==============================] - 11s 15ms/step\n",
      "\n",
      "Loss = 0.2685149473296542\n",
      "Test Accuracy = 0.9047619047619048\n"
     ]
    }
   ],
   "source": [
    "from keras.models import load_model\n",
    "cagemodel=load_model('hairclassification.h5')\n",
    "preds =cagemodel.evaluate(x =x_test, y =y_test)\n",
    "\n",
    "print()\n",
    "print (\"Loss = \" + str(preds[0]))\n",
    "print (\"Test Accuracy = \" + str(preds[1]))"
   ]
  },
  {
   "cell_type": "markdown",
   "metadata": {},
   "source": [
    "\n",
    "## Ploting Graphs"
   ]
  },
  {
   "cell_type": "code",
   "execution_count": 32,
   "metadata": {},
   "outputs": [
    {
     "data": {
      "image/png": "[encoded data removed]",
      "text/plain": [
       "<matplotlib.figure.Figure at 0x255cf447e10>"
      ]
     },
     "metadata": {},
     "output_type": "display_data"
    }
   ],
   "source": [
    "plt.plot(history.history['loss'])\n",
    "plt.plot(history.history['val_loss'])\n",
    "plt.title('Hair Model loss')\n",
    "plt.ylabel('loss')\n",
    "plt.xlabel('epoch')\n",
    "plt.legend(['train', 'test'], loc='upper left')\n",
    "plt.show()"
   ]
  },
  {
   "cell_type": "code",
   "execution_count": 33,
   "metadata": {},
   "outputs": [
    {
     "data": {
      "image/png": "[encoded data removed]",
      "text/plain": [
       "<matplotlib.figure.Figure at 0x255cf447cf8>"
      ]
     },
     "metadata": {},
     "output_type": "display_data"
    }
   ],
   "source": [
    "plt.plot(history.history['acc'])\n",
    "plt.plot(history.history['val_acc'])\n",
    "plt.title('hair Model Accuracy')\n",
    "plt.ylabel('Accuracy')\n",
    "plt.xlabel('epoch')\n",
    "plt.legend(['train', 'test'], loc='upper left')\n",
    "plt.show()"
   ]
  },
  {
   "cell_type": "markdown",
   "metadata": {},
   "source": [
    "## Exporting CSV"
   ]
  },
  {
   "cell_type": "code",
   "execution_count": 101,
   "metadata": {},
   "outputs": [],
   "source": [
    "import pandas as pd\n",
    "yhat=agemodel.predict(x_test)\n",
    "df =pd.DataFrame(test['file_name'],index=None)\n",
    "yhat=np.round(yhat,0)\n",
    "df1 =pd.DataFrame(yhat)\n",
    "for e in range (5):\n",
    "    \n",
    "    df1.iloc[:,e]=df1.iloc[:,e]*(e+1)\n",
    "df['pred']=list(df1.max(axis=1))\n",
    "pred=np.array(df)\n",
    "np.savetxt('Task5.csv', pred, delimiter=',',header=str(preds[1]))\n"
   ]
  },
  {
   "cell_type": "markdown",
   "metadata": {},
   "source": [
    "## Importing Test Dataset"
   ]
  },
  {
   "cell_type": "code",
   "execution_count": 145,
   "metadata": {},
   "outputs": [],
   "source": [
    "i=0\n",
    "NewTest=np.zeros((100,picture_shape[0],picture_shape[1],3))\n",
    "for x in range(1,101):\n",
    "    temp= image.load_img('testing_dataset/'+str(x)+'.png',target_size=(picture_shape))\n",
    "    NewTest[i,:,:,:]=image.img_to_array(temp)\n",
    "    i=i+1\n",
    "NewTest=NewTest/255"
   ]
  },
  {
   "cell_type": "markdown",
   "metadata": {},
   "source": [
    "Predicting and exporting to csv"
   ]
  },
  {
   "cell_type": "code",
   "execution_count": 146,
   "metadata": {},
   "outputs": [],
   "source": [
    "\n",
    "yhat=cagemodel.predict(NewTest)\n",
    "yhat=np.round(yhat,0)\n",
    "df1 =pd.DataFrame(yhat)\n",
    "for e in range (5):\n",
    "    \n",
    "    df1.iloc[:,e]=df1.iloc[:,e]*(e+1)\n",
    "\n"
   ]
  },
  {
   "cell_type": "code",
   "execution_count": 147,
   "metadata": {},
   "outputs": [],
   "source": [
    "df = pd.DataFrame(list(range(1,101)))\n",
    "df['pred']=list(df1.max(axis=1))\n",
    "pred=np.array(df)\n",
    "np.savetxt('Testing_dataset_Task5.csv', pred, delimiter=',',header=str(preds[1]))\n",
    "\n"
   ]
  },
  {
   "cell_type": "code",
   "execution_count": null,
   "metadata": {},
   "outputs": [],
   "source": []
  },
  {
   "cell_type": "code",
   "execution_count": null,
   "metadata": {},
   "outputs": [],
   "source": []
  },
  {
   "cell_type": "code",
   "execution_count": null,
   "metadata": {},
   "outputs": [],
   "source": []
  }
 ],
 "metadata": {
  "kernelspec": {
   "display_name": "Python 3",
   "language": "python",
   "name": "python3"
  },
  "language_info": {
   "codemirror_mode": {
    "name": "ipython",
    "version": 3
   },
   "file_extension": ".py",
   "mimetype": "text/x-python",
   "name": "python",
   "nbconvert_exporter": "python",
   "pygments_lexer": "ipython3",
   "version": "3.6.4"
  }
 },
 "nbformat": 4,
 "nbformat_minor": 2
}
