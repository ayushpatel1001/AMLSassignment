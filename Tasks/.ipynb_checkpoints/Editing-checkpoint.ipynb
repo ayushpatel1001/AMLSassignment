{
 "cells": [
  {
   "cell_type": "code",
   "execution_count": 1,
   "metadata": {},
   "outputs": [],
   "source": [
    "import pandas as pd"
   ]
  },
  {
   "cell_type": "code",
   "execution_count": 78,
   "metadata": {},
   "outputs": [],
   "source": [
    "file='task5.csv'\n",
    "x =pd.read_csv(file,skiprows=1,header=None)\n",
    "\n",
    "names=[]\n",
    "for i in range(len(x)):\n",
    "    names.append(str(x.iloc[i,0])+'.png')\n",
    "    \n",
    "\n",
    "x.iloc[:,1]=x.iloc[:,1].replace(0,-1)\n",
    "x.iloc[:,0]= pd.DataFrame(names)\n",
    "\n",
    "x.to_csv(file)"
   ]
  },
  {
   "cell_type": "code",
   "execution_count": null,
   "metadata": {},
   "outputs": [],
   "source": []
  }
 ],
 "metadata": {
  "kernelspec": {
   "display_name": "Python 3",
   "language": "python",
   "name": "python3"
  },
  "language_info": {
   "codemirror_mode": {
    "name": "ipython",
    "version": 3
   },
   "file_extension": ".py",
   "mimetype": "text/x-python",
   "name": "python",
   "nbconvert_exporter": "python",
   "pygments_lexer": "ipython3",
   "version": "3.6.4"
  }
 },
 "nbformat": 4,
 "nbformat_minor": 2
}
