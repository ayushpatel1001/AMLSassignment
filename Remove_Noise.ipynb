{
 "cells": [
  {
   "cell_type": "code",
   "execution_count": 5,
   "metadata": {},
   "outputs": [],
   "source": [
    "#creates noise classified.csv by detecting if theres a face in the pictur\n",
    "import numpy as np\n",
    "import cv2\n",
    "import dlib\n",
    "\n",
    "base_dir='floyd\\input\\dataset\\\\'#change to wherever dataset is \n",
    "detector = dlib.get_frontal_face_detector()\n",
    "\n",
    "faces=[]\n",
    "for x in range (1,5001):# change to number of (files +1)\n",
    "    img_path=(base_dir + str(x)+'.png')\n",
    "    #print (img_path)\n",
    "    img = cv2.imread(img_path)\n",
    "    \n",
    "    gray = img.astype('uint8')\n",
    "    gray = cv2.cvtColor(gray, cv2.COLOR_BGR2GRAY)\n",
    "    gray = gray.astype('uint8')\n",
    "    rects = detector(gray, 1)#checks if theres a frontal face\n",
    "    if len(rects)==0:\n",
    "        faces.append([x,0])\n",
    "    else:\n",
    "        faces.append([x,1])\n",
    "    \n",
    "\n",
    "npfaces=np.array(faces)\n",
    "np.savetxt(\"noise_classified.csv\", npfaces, delimiter=\",\")#returns a csv with filename and whether or not its noise"
   ]
  },
  {
   "cell_type": "code",
   "execution_count": 6,
   "metadata": {},
   "outputs": [
    {
     "data": {
      "text/plain": [
       "'floyd\\\\input\\\\dataset\\\\5000.png'"
      ]
     },
     "execution_count": 6,
     "metadata": {},
     "output_type": "execute_result"
    }
   ],
   "source": [
    "\n"
   ]
  },
  {
   "cell_type": "code",
   "execution_count": null,
   "metadata": {},
   "outputs": [],
   "source": []
  }
 ],
 "metadata": {
  "kernelspec": {
   "display_name": "Python 3",
   "language": "python",
   "name": "python3"
  },
  "language_info": {
   "codemirror_mode": {
    "name": "ipython",
    "version": 3
   },
   "file_extension": ".py",
   "mimetype": "text/x-python",
   "name": "python",
   "nbconvert_exporter": "python",
   "pygments_lexer": "ipython3",
   "version": "3.6.4"
  }
 },
 "nbformat": 4,
 "nbformat_minor": 2
}
